{
 "cells": [
  {
   "cell_type": "markdown",
   "metadata": {},
   "source": [
    "## Data import and Cleaning"
   ]
  },
  {
   "cell_type": "code",
   "execution_count": 35,
   "metadata": {},
   "outputs": [
    {
     "name": "stderr",
     "output_type": "stream",
     "text": [
      "/var/folders/5j/4p7c5_1x2fg18bk0nf74_hg40000gn/T/ipykernel_7377/1747643720.py:8: DtypeWarning: Columns (13,14,45,46,47,48,49,54,55,56,57,60,65,66,67,68,69,70,71,72,73,74,75,76,77,78,79,82,83,84,85,86,87,88,89,90,91,92,93,94,95,96,97,98,99,100,101,102,105,106,107,108,109,110,111,112,113,115,120,123,128,132,134,135,141,142,143,144,145,149,152) have mixed types. Specify dtype option on import or set low_memory=False.\n",
      "  assays = pd.read_csv(r'/Users/tariq/Documents/capstone/data/tcell_table_export_1740279970.csv')\n"
     ]
    }
   ],
   "source": [
    "import pandas as pd\n",
    "from collections import Counter\n",
    "import matplotlib.pyplot as plt\n",
    "import seaborn as sns\n",
    "import numpy as np\n",
    "\n",
    "epitopes = pd.read_csv(r'/Users/tariq/Documents/capstone/data/epitope_full_seq.csv')\n",
    "assays = pd.read_csv(r'/Users/tariq/Documents/capstone/data/tcell_table_export_1740279970.csv')\n",
    "\n",
    "# make all the column names snake case\n",
    "epitopes.columns = epitopes.columns.str.lower()\n",
    "assays.columns = assays.columns.str.lower()\n",
    "\n",
    "# remove spaces from column names\n",
    "epitopes.columns = epitopes.columns.str.replace(' ', '')\n",
    "epitopes.columns = epitopes.columns.str.replace('-', ' ')\n",
    "epitopes.columns = epitopes.columns.str.replace(' ', '_')\n",
    "\n",
    "assays.columns = assays.columns.str.replace(' ', '')\n",
    "assays.columns = assays.columns.str.replace('-', ' ')\n",
    "assays.columns = assays.columns.str.replace(' ', '_')\n",
    "\n",
    "epitopes = epitopes.filter(['epitope_objecttype', 'epitope_name', 'fullsequence'])\n",
    "assays = assays.filter(['epitope_name', 'epitope_moluculeparent', 'host_name', 'host_mhcpresent', 'assay_method','assay_responsemeasured', 'assay_qualitativemeasurement', 'mhcrestriction_name', 'mhcrestriction_class', 'assayantigen_name'])\n",
    "\n",
    "# map mhc name and class from the assays dataframe to a new column in the epitopes dataframe based on epitope_name\n",
    "mhc = assays.filter(['epitope_name', 'mhcrestriction_name', 'mhcrestriction_class'])\n",
    "mhc = mhc.drop_duplicates(subset=['epitope_name'])\n",
    "epitopes = epitopes.merge(mhc, on='epitope_name', how='left')"
   ]
  },
  {
   "cell_type": "code",
   "execution_count": 36,
   "metadata": {},
   "outputs": [
    {
     "data": {
      "text/html": [
       "<div>\n",
       "<style scoped>\n",
       "    .dataframe tbody tr th:only-of-type {\n",
       "        vertical-align: middle;\n",
       "    }\n",
       "\n",
       "    .dataframe tbody tr th {\n",
       "        vertical-align: top;\n",
       "    }\n",
       "\n",
       "    .dataframe thead th {\n",
       "        text-align: right;\n",
       "    }\n",
       "</style>\n",
       "<table border=\"1\" class=\"dataframe\">\n",
       "  <thead>\n",
       "    <tr style=\"text-align: right;\">\n",
       "      <th></th>\n",
       "      <th>epitope_objecttype</th>\n",
       "      <th>epitope_name</th>\n",
       "      <th>fullsequence</th>\n",
       "      <th>mhcrestriction_name</th>\n",
       "      <th>mhcrestriction_class</th>\n",
       "    </tr>\n",
       "  </thead>\n",
       "  <tbody>\n",
       "    <tr>\n",
       "      <th>0</th>\n",
       "      <td>Linear peptide</td>\n",
       "      <td>AAGIGILTV</td>\n",
       "      <td>MPREDAHFIYGYPKKGHGHSYTTAEEAAGIGILTVILGVLLLIGCW...</td>\n",
       "      <td>HLA-A2</td>\n",
       "      <td>I</td>\n",
       "    </tr>\n",
       "    <tr>\n",
       "      <th>1</th>\n",
       "      <td>Linear peptide</td>\n",
       "      <td>AAGIGILTVI</td>\n",
       "      <td>MPREDAHFIYGYPKKGHGHSYTTAEEAAGIGILTVILGVLLLIGCW...</td>\n",
       "      <td>HLA-A*02:01</td>\n",
       "      <td>I</td>\n",
       "    </tr>\n",
       "    <tr>\n",
       "      <th>2</th>\n",
       "      <td>Linear peptide</td>\n",
       "      <td>ACDPHSGHFV</td>\n",
       "      <td>NaN</td>\n",
       "      <td>HLA-A2</td>\n",
       "      <td>I</td>\n",
       "    </tr>\n",
       "    <tr>\n",
       "      <th>3</th>\n",
       "      <td>Linear peptide</td>\n",
       "      <td>ADLVGFLLLK</td>\n",
       "      <td>MSLEQRSLHCKPEEALEAQQEALGLVCVQAATSSSSPLVLGTLEEV...</td>\n",
       "      <td>HLA-A*11:01</td>\n",
       "      <td>I</td>\n",
       "    </tr>\n",
       "    <tr>\n",
       "      <th>4</th>\n",
       "      <td>Linear peptide</td>\n",
       "      <td>ADVEFCLSL</td>\n",
       "      <td>MLLAVLYCLLWSFQTSAGHFPRACVSSKNLMEKECCPPWSGDRSPC...</td>\n",
       "      <td>HLA-B*44:03</td>\n",
       "      <td>I</td>\n",
       "    </tr>\n",
       "  </tbody>\n",
       "</table>\n",
       "</div>"
      ],
      "text/plain": [
       "  epitope_objecttype epitope_name  \\\n",
       "0     Linear peptide    AAGIGILTV   \n",
       "1     Linear peptide   AAGIGILTVI   \n",
       "2     Linear peptide   ACDPHSGHFV   \n",
       "3     Linear peptide   ADLVGFLLLK   \n",
       "4     Linear peptide    ADVEFCLSL   \n",
       "\n",
       "                                        fullsequence mhcrestriction_name  \\\n",
       "0  MPREDAHFIYGYPKKGHGHSYTTAEEAAGIGILTVILGVLLLIGCW...              HLA-A2   \n",
       "1  MPREDAHFIYGYPKKGHGHSYTTAEEAAGIGILTVILGVLLLIGCW...         HLA-A*02:01   \n",
       "2                                                NaN              HLA-A2   \n",
       "3  MSLEQRSLHCKPEEALEAQQEALGLVCVQAATSSSSPLVLGTLEEV...         HLA-A*11:01   \n",
       "4  MLLAVLYCLLWSFQTSAGHFPRACVSSKNLMEKECCPPWSGDRSPC...         HLA-B*44:03   \n",
       "\n",
       "  mhcrestriction_class  \n",
       "0                    I  \n",
       "1                    I  \n",
       "2                    I  \n",
       "3                    I  \n",
       "4                    I  "
      ]
     },
     "execution_count": 36,
     "metadata": {},
     "output_type": "execute_result"
    }
   ],
   "source": [
    "epitopes.head()"
   ]
  },
  {
   "cell_type": "code",
   "execution_count": 37,
   "metadata": {},
   "outputs": [
    {
     "name": "stdout",
     "output_type": "stream",
     "text": [
      "<class 'pandas.core.frame.DataFrame'>\n",
      "RangeIndex: 28681 entries, 0 to 28680\n",
      "Data columns (total 5 columns):\n",
      " #   Column                Non-Null Count  Dtype \n",
      "---  ------                --------------  ----- \n",
      " 0   epitope_objecttype    28681 non-null  object\n",
      " 1   epitope_name          28681 non-null  object\n",
      " 2   fullsequence          7164 non-null   object\n",
      " 3   mhcrestriction_name   17613 non-null  object\n",
      " 4   mhcrestriction_class  17613 non-null  object\n",
      "dtypes: object(5)\n",
      "memory usage: 1.1+ MB\n"
     ]
    }
   ],
   "source": [
    "epitopes.info()"
   ]
  },
  {
   "cell_type": "markdown",
   "metadata": {},
   "source": [
    "## Feature Engineering"
   ]
  },
  {
   "cell_type": "code",
   "execution_count": 38,
   "metadata": {},
   "outputs": [],
   "source": [
    "epitopes['epitope_length'] = epitopes['epitope_name'].str.len()"
   ]
  },
  {
   "cell_type": "code",
   "execution_count": 39,
   "metadata": {},
   "outputs": [],
   "source": [
    "# Define the function to compute amino acid composition\n",
    "def compute_composition(peptide):\n",
    "    total = len(peptide)\n",
    "    # Calculate frequency for each standard amino acid (you can adjust the list if needed)\n",
    "    amino_acids = 'ACDEFGHIKLMNPQRSTVWY'\n",
    "    comp = Counter(peptide)\n",
    "    # Create a dictionary with relative frequency for each amino acid\n",
    "    return {aa: comp.get(aa, 0) / total if total != 0 else 0 for aa in amino_acids}\n",
    "\n",
    "# Apply the function to each epitope\n",
    "epitope_composition_df = epitopes['epitope_name'].apply(compute_composition).apply(pd.Series)"
   ]
  },
  {
   "cell_type": "code",
   "execution_count": 40,
   "metadata": {},
   "outputs": [
    {
     "data": {
      "text/html": [
       "<div>\n",
       "<style scoped>\n",
       "    .dataframe tbody tr th:only-of-type {\n",
       "        vertical-align: middle;\n",
       "    }\n",
       "\n",
       "    .dataframe tbody tr th {\n",
       "        vertical-align: top;\n",
       "    }\n",
       "\n",
       "    .dataframe thead th {\n",
       "        text-align: right;\n",
       "    }\n",
       "</style>\n",
       "<table border=\"1\" class=\"dataframe\">\n",
       "  <thead>\n",
       "    <tr style=\"text-align: right;\">\n",
       "      <th></th>\n",
       "      <th>A</th>\n",
       "      <th>C</th>\n",
       "      <th>D</th>\n",
       "      <th>E</th>\n",
       "      <th>F</th>\n",
       "      <th>G</th>\n",
       "      <th>H</th>\n",
       "      <th>I</th>\n",
       "      <th>K</th>\n",
       "      <th>L</th>\n",
       "      <th>M</th>\n",
       "      <th>N</th>\n",
       "      <th>P</th>\n",
       "      <th>Q</th>\n",
       "      <th>R</th>\n",
       "      <th>S</th>\n",
       "      <th>T</th>\n",
       "      <th>V</th>\n",
       "      <th>W</th>\n",
       "      <th>Y</th>\n",
       "    </tr>\n",
       "  </thead>\n",
       "  <tbody>\n",
       "    <tr>\n",
       "      <th>0</th>\n",
       "      <td>0.222222</td>\n",
       "      <td>0.000000</td>\n",
       "      <td>0.000000</td>\n",
       "      <td>0.000000</td>\n",
       "      <td>0.000000</td>\n",
       "      <td>0.222222</td>\n",
       "      <td>0.0</td>\n",
       "      <td>0.222222</td>\n",
       "      <td>0.0</td>\n",
       "      <td>0.111111</td>\n",
       "      <td>0.0</td>\n",
       "      <td>0.0</td>\n",
       "      <td>0.0</td>\n",
       "      <td>0.0</td>\n",
       "      <td>0.0</td>\n",
       "      <td>0.000000</td>\n",
       "      <td>0.111111</td>\n",
       "      <td>0.111111</td>\n",
       "      <td>0.0</td>\n",
       "      <td>0.0</td>\n",
       "    </tr>\n",
       "    <tr>\n",
       "      <th>1</th>\n",
       "      <td>0.200000</td>\n",
       "      <td>0.000000</td>\n",
       "      <td>0.000000</td>\n",
       "      <td>0.000000</td>\n",
       "      <td>0.000000</td>\n",
       "      <td>0.200000</td>\n",
       "      <td>0.0</td>\n",
       "      <td>0.300000</td>\n",
       "      <td>0.0</td>\n",
       "      <td>0.100000</td>\n",
       "      <td>0.0</td>\n",
       "      <td>0.0</td>\n",
       "      <td>0.0</td>\n",
       "      <td>0.0</td>\n",
       "      <td>0.0</td>\n",
       "      <td>0.000000</td>\n",
       "      <td>0.100000</td>\n",
       "      <td>0.100000</td>\n",
       "      <td>0.0</td>\n",
       "      <td>0.0</td>\n",
       "    </tr>\n",
       "    <tr>\n",
       "      <th>2</th>\n",
       "      <td>0.100000</td>\n",
       "      <td>0.100000</td>\n",
       "      <td>0.100000</td>\n",
       "      <td>0.000000</td>\n",
       "      <td>0.100000</td>\n",
       "      <td>0.100000</td>\n",
       "      <td>0.2</td>\n",
       "      <td>0.000000</td>\n",
       "      <td>0.0</td>\n",
       "      <td>0.000000</td>\n",
       "      <td>0.0</td>\n",
       "      <td>0.0</td>\n",
       "      <td>0.1</td>\n",
       "      <td>0.0</td>\n",
       "      <td>0.0</td>\n",
       "      <td>0.100000</td>\n",
       "      <td>0.000000</td>\n",
       "      <td>0.100000</td>\n",
       "      <td>0.0</td>\n",
       "      <td>0.0</td>\n",
       "    </tr>\n",
       "    <tr>\n",
       "      <th>3</th>\n",
       "      <td>0.100000</td>\n",
       "      <td>0.000000</td>\n",
       "      <td>0.100000</td>\n",
       "      <td>0.000000</td>\n",
       "      <td>0.100000</td>\n",
       "      <td>0.100000</td>\n",
       "      <td>0.0</td>\n",
       "      <td>0.000000</td>\n",
       "      <td>0.1</td>\n",
       "      <td>0.400000</td>\n",
       "      <td>0.0</td>\n",
       "      <td>0.0</td>\n",
       "      <td>0.0</td>\n",
       "      <td>0.0</td>\n",
       "      <td>0.0</td>\n",
       "      <td>0.000000</td>\n",
       "      <td>0.000000</td>\n",
       "      <td>0.100000</td>\n",
       "      <td>0.0</td>\n",
       "      <td>0.0</td>\n",
       "    </tr>\n",
       "    <tr>\n",
       "      <th>4</th>\n",
       "      <td>0.111111</td>\n",
       "      <td>0.111111</td>\n",
       "      <td>0.111111</td>\n",
       "      <td>0.111111</td>\n",
       "      <td>0.111111</td>\n",
       "      <td>0.000000</td>\n",
       "      <td>0.0</td>\n",
       "      <td>0.000000</td>\n",
       "      <td>0.0</td>\n",
       "      <td>0.222222</td>\n",
       "      <td>0.0</td>\n",
       "      <td>0.0</td>\n",
       "      <td>0.0</td>\n",
       "      <td>0.0</td>\n",
       "      <td>0.0</td>\n",
       "      <td>0.111111</td>\n",
       "      <td>0.000000</td>\n",
       "      <td>0.111111</td>\n",
       "      <td>0.0</td>\n",
       "      <td>0.0</td>\n",
       "    </tr>\n",
       "  </tbody>\n",
       "</table>\n",
       "</div>"
      ],
      "text/plain": [
       "          A         C         D         E         F         G    H         I  \\\n",
       "0  0.222222  0.000000  0.000000  0.000000  0.000000  0.222222  0.0  0.222222   \n",
       "1  0.200000  0.000000  0.000000  0.000000  0.000000  0.200000  0.0  0.300000   \n",
       "2  0.100000  0.100000  0.100000  0.000000  0.100000  0.100000  0.2  0.000000   \n",
       "3  0.100000  0.000000  0.100000  0.000000  0.100000  0.100000  0.0  0.000000   \n",
       "4  0.111111  0.111111  0.111111  0.111111  0.111111  0.000000  0.0  0.000000   \n",
       "\n",
       "     K         L    M    N    P    Q    R         S         T         V    W  \\\n",
       "0  0.0  0.111111  0.0  0.0  0.0  0.0  0.0  0.000000  0.111111  0.111111  0.0   \n",
       "1  0.0  0.100000  0.0  0.0  0.0  0.0  0.0  0.000000  0.100000  0.100000  0.0   \n",
       "2  0.0  0.000000  0.0  0.0  0.1  0.0  0.0  0.100000  0.000000  0.100000  0.0   \n",
       "3  0.1  0.400000  0.0  0.0  0.0  0.0  0.0  0.000000  0.000000  0.100000  0.0   \n",
       "4  0.0  0.222222  0.0  0.0  0.0  0.0  0.0  0.111111  0.000000  0.111111  0.0   \n",
       "\n",
       "     Y  \n",
       "0  0.0  \n",
       "1  0.0  \n",
       "2  0.0  \n",
       "3  0.0  \n",
       "4  0.0  "
      ]
     },
     "execution_count": 40,
     "metadata": {},
     "output_type": "execute_result"
    }
   ],
   "source": [
    "epitope_composition_df.head()"
   ]
  },
  {
   "cell_type": "code",
   "execution_count": 41,
   "metadata": {},
   "outputs": [],
   "source": [
    "# Example DataFrame with a 'peptide' column\n",
    "df = pd.DataFrame({\n",
    "    'peptide': ['ACDEFGHIK', 'LMNPQRSTV', 'WYFP']\n",
    "})\n",
    "\n",
    "# Kyte-Doolittle hydrophobicity scale\n",
    "kyte_doolittle = {\n",
    "    'I': 4.5, 'V': 4.2, 'L': 3.8, 'F': 2.8, 'C': 2.5,\n",
    "    'M': 1.9, 'A': 1.8, 'G': -0.4, 'T': -0.7, 'S': -0.8,\n",
    "    'W': -0.9, 'Y': -1.3, 'P': -1.6, 'H': -3.2, 'E': -3.5,\n",
    "    'Q': -3.5, 'D': -3.5, 'N': -3.5, 'K': -3.9, 'R': -4.5\n",
    "}\n",
    "\n",
    "def compute_avg_hydrophobicity(peptide):\n",
    "    # Get hydrophobicity scores for each amino acid; default to 0 if missing\n",
    "    scores = [kyte_doolittle.get(aa, 0) for aa in peptide]\n",
    "    return sum(scores) / len(scores) if scores else 0\n",
    "\n",
    "# Apply the function to the 'peptide' column to create a new column 'avg_hydro'\n",
    "epitopes['epitope_avg_hydro'] = epitopes['epitope_name'].apply(compute_avg_hydrophobicity)"
   ]
  },
  {
   "cell_type": "code",
   "execution_count": 42,
   "metadata": {},
   "outputs": [
    {
     "data": {
      "text/html": [
       "<div>\n",
       "<style scoped>\n",
       "    .dataframe tbody tr th:only-of-type {\n",
       "        vertical-align: middle;\n",
       "    }\n",
       "\n",
       "    .dataframe tbody tr th {\n",
       "        vertical-align: top;\n",
       "    }\n",
       "\n",
       "    .dataframe thead th {\n",
       "        text-align: right;\n",
       "    }\n",
       "</style>\n",
       "<table border=\"1\" class=\"dataframe\">\n",
       "  <thead>\n",
       "    <tr style=\"text-align: right;\">\n",
       "      <th></th>\n",
       "      <th>epitope_objecttype</th>\n",
       "      <th>epitope_name</th>\n",
       "      <th>fullsequence</th>\n",
       "      <th>mhcrestriction_name</th>\n",
       "      <th>mhcrestriction_class</th>\n",
       "      <th>epitope_length</th>\n",
       "      <th>epitope_avg_hydro</th>\n",
       "    </tr>\n",
       "  </thead>\n",
       "  <tbody>\n",
       "    <tr>\n",
       "      <th>0</th>\n",
       "      <td>Linear peptide</td>\n",
       "      <td>AAGIGILTV</td>\n",
       "      <td>MPREDAHFIYGYPKKGHGHSYTTAEEAAGIGILTVILGVLLLIGCW...</td>\n",
       "      <td>HLA-A2</td>\n",
       "      <td>I</td>\n",
       "      <td>9</td>\n",
       "      <td>2.122222</td>\n",
       "    </tr>\n",
       "    <tr>\n",
       "      <th>1</th>\n",
       "      <td>Linear peptide</td>\n",
       "      <td>AAGIGILTVI</td>\n",
       "      <td>MPREDAHFIYGYPKKGHGHSYTTAEEAAGIGILTVILGVLLLIGCW...</td>\n",
       "      <td>HLA-A*02:01</td>\n",
       "      <td>I</td>\n",
       "      <td>10</td>\n",
       "      <td>2.360000</td>\n",
       "    </tr>\n",
       "    <tr>\n",
       "      <th>2</th>\n",
       "      <td>Linear peptide</td>\n",
       "      <td>ACDPHSGHFV</td>\n",
       "      <td>NaN</td>\n",
       "      <td>HLA-A2</td>\n",
       "      <td>I</td>\n",
       "      <td>10</td>\n",
       "      <td>-0.140000</td>\n",
       "    </tr>\n",
       "    <tr>\n",
       "      <th>3</th>\n",
       "      <td>Linear peptide</td>\n",
       "      <td>ADLVGFLLLK</td>\n",
       "      <td>MSLEQRSLHCKPEEALEAQQEALGLVCVQAATSSSSPLVLGTLEEV...</td>\n",
       "      <td>HLA-A*11:01</td>\n",
       "      <td>I</td>\n",
       "      <td>10</td>\n",
       "      <td>1.620000</td>\n",
       "    </tr>\n",
       "    <tr>\n",
       "      <th>4</th>\n",
       "      <td>Linear peptide</td>\n",
       "      <td>ADVEFCLSL</td>\n",
       "      <td>MLLAVLYCLLWSFQTSAGHFPRACVSSKNLMEKECCPPWSGDRSPC...</td>\n",
       "      <td>HLA-B*44:03</td>\n",
       "      <td>I</td>\n",
       "      <td>9</td>\n",
       "      <td>1.233333</td>\n",
       "    </tr>\n",
       "  </tbody>\n",
       "</table>\n",
       "</div>"
      ],
      "text/plain": [
       "  epitope_objecttype epitope_name  \\\n",
       "0     Linear peptide    AAGIGILTV   \n",
       "1     Linear peptide   AAGIGILTVI   \n",
       "2     Linear peptide   ACDPHSGHFV   \n",
       "3     Linear peptide   ADLVGFLLLK   \n",
       "4     Linear peptide    ADVEFCLSL   \n",
       "\n",
       "                                        fullsequence mhcrestriction_name  \\\n",
       "0  MPREDAHFIYGYPKKGHGHSYTTAEEAAGIGILTVILGVLLLIGCW...              HLA-A2   \n",
       "1  MPREDAHFIYGYPKKGHGHSYTTAEEAAGIGILTVILGVLLLIGCW...         HLA-A*02:01   \n",
       "2                                                NaN              HLA-A2   \n",
       "3  MSLEQRSLHCKPEEALEAQQEALGLVCVQAATSSSSPLVLGTLEEV...         HLA-A*11:01   \n",
       "4  MLLAVLYCLLWSFQTSAGHFPRACVSSKNLMEKECCPPWSGDRSPC...         HLA-B*44:03   \n",
       "\n",
       "  mhcrestriction_class  epitope_length  epitope_avg_hydro  \n",
       "0                    I               9           2.122222  \n",
       "1                    I              10           2.360000  \n",
       "2                    I              10          -0.140000  \n",
       "3                    I              10           1.620000  \n",
       "4                    I               9           1.233333  "
      ]
     },
     "execution_count": 42,
     "metadata": {},
     "output_type": "execute_result"
    }
   ],
   "source": [
    "epitopes.head()"
   ]
  },
  {
   "cell_type": "markdown",
   "metadata": {},
   "source": [
    "## Generation of Negative Samples"
   ]
  },
  {
   "cell_type": "code",
   "execution_count": 43,
   "metadata": {},
   "outputs": [],
   "source": [
    "def generate_negatives(row):\n",
    "    epitope = row[\"epitope_name\"]\n",
    "    full_seq = row[\"fullsequence\"]\n",
    "    \n",
    "    # Handle missing or empty sequences\n",
    "    if pd.isnull(full_seq) or full_seq == \"\":\n",
    "        return []\n",
    "    \n",
    "    epitope = str(epitope)\n",
    "    full_seq = str(full_seq)\n",
    "    ep_len = len(epitope)\n",
    "    \n",
    "    negatives = []\n",
    "    for i in range(len(full_seq) - ep_len + 1):\n",
    "        window = full_seq[i:i+ep_len]\n",
    "        if window != epitope:\n",
    "            negatives.append(window)\n",
    "    return negatives\n",
    "\n",
    "# Apply the function to each row\n",
    "\n",
    "negatives = pd.DataFrame()\n",
    "negatives['negatives'] = epitopes.apply(generate_negatives, axis=1)\n",
    "negatives = negatives[[\"negatives\"]].explode(\"negatives\").reset_index(drop=True)\n",
    "negatives.dropna(subset=[\"negatives\"], inplace=True)\n",
    "negatives['negatives_length'] = negatives['negatives'].apply(len)\n",
    "negatives['negatives_avg_hydro'] = negatives['negatives'].apply(compute_avg_hydrophobicity)"
   ]
  },
  {
   "cell_type": "code",
   "execution_count": 44,
   "metadata": {},
   "outputs": [],
   "source": [
    "#negatives_composition_df = negatives['negatives'].apply(compute_composition).apply(pd.Series)\n",
    "negatives_composition_df = pd.read_csv(\"data/negatives_composition_df.csv\")"
   ]
  },
  {
   "cell_type": "markdown",
   "metadata": {},
   "source": [
    "## EDA"
   ]
  },
  {
   "cell_type": "markdown",
   "metadata": {},
   "source": [
    "### Data Summary"
   ]
  },
  {
   "cell_type": "code",
   "execution_count": 45,
   "metadata": {},
   "outputs": [
    {
     "data": {
      "text/html": [
       "<div>\n",
       "<style scoped>\n",
       "    .dataframe tbody tr th:only-of-type {\n",
       "        vertical-align: middle;\n",
       "    }\n",
       "\n",
       "    .dataframe tbody tr th {\n",
       "        vertical-align: top;\n",
       "    }\n",
       "\n",
       "    .dataframe thead th {\n",
       "        text-align: right;\n",
       "    }\n",
       "</style>\n",
       "<table border=\"1\" class=\"dataframe\">\n",
       "  <thead>\n",
       "    <tr style=\"text-align: right;\">\n",
       "      <th></th>\n",
       "      <th>epitope_objecttype</th>\n",
       "      <th>epitope_name</th>\n",
       "      <th>fullsequence</th>\n",
       "      <th>mhcrestriction_name</th>\n",
       "      <th>mhcrestriction_class</th>\n",
       "      <th>epitope_length</th>\n",
       "      <th>epitope_avg_hydro</th>\n",
       "    </tr>\n",
       "  </thead>\n",
       "  <tbody>\n",
       "    <tr>\n",
       "      <th>0</th>\n",
       "      <td>Linear peptide</td>\n",
       "      <td>AAGIGILTV</td>\n",
       "      <td>MPREDAHFIYGYPKKGHGHSYTTAEEAAGIGILTVILGVLLLIGCW...</td>\n",
       "      <td>HLA-A2</td>\n",
       "      <td>I</td>\n",
       "      <td>9</td>\n",
       "      <td>2.122222</td>\n",
       "    </tr>\n",
       "    <tr>\n",
       "      <th>1</th>\n",
       "      <td>Linear peptide</td>\n",
       "      <td>AAGIGILTVI</td>\n",
       "      <td>MPREDAHFIYGYPKKGHGHSYTTAEEAAGIGILTVILGVLLLIGCW...</td>\n",
       "      <td>HLA-A*02:01</td>\n",
       "      <td>I</td>\n",
       "      <td>10</td>\n",
       "      <td>2.360000</td>\n",
       "    </tr>\n",
       "    <tr>\n",
       "      <th>2</th>\n",
       "      <td>Linear peptide</td>\n",
       "      <td>ACDPHSGHFV</td>\n",
       "      <td>NaN</td>\n",
       "      <td>HLA-A2</td>\n",
       "      <td>I</td>\n",
       "      <td>10</td>\n",
       "      <td>-0.140000</td>\n",
       "    </tr>\n",
       "    <tr>\n",
       "      <th>3</th>\n",
       "      <td>Linear peptide</td>\n",
       "      <td>ADLVGFLLLK</td>\n",
       "      <td>MSLEQRSLHCKPEEALEAQQEALGLVCVQAATSSSSPLVLGTLEEV...</td>\n",
       "      <td>HLA-A*11:01</td>\n",
       "      <td>I</td>\n",
       "      <td>10</td>\n",
       "      <td>1.620000</td>\n",
       "    </tr>\n",
       "    <tr>\n",
       "      <th>4</th>\n",
       "      <td>Linear peptide</td>\n",
       "      <td>ADVEFCLSL</td>\n",
       "      <td>MLLAVLYCLLWSFQTSAGHFPRACVSSKNLMEKECCPPWSGDRSPC...</td>\n",
       "      <td>HLA-B*44:03</td>\n",
       "      <td>I</td>\n",
       "      <td>9</td>\n",
       "      <td>1.233333</td>\n",
       "    </tr>\n",
       "  </tbody>\n",
       "</table>\n",
       "</div>"
      ],
      "text/plain": [
       "  epitope_objecttype epitope_name  \\\n",
       "0     Linear peptide    AAGIGILTV   \n",
       "1     Linear peptide   AAGIGILTVI   \n",
       "2     Linear peptide   ACDPHSGHFV   \n",
       "3     Linear peptide   ADLVGFLLLK   \n",
       "4     Linear peptide    ADVEFCLSL   \n",
       "\n",
       "                                        fullsequence mhcrestriction_name  \\\n",
       "0  MPREDAHFIYGYPKKGHGHSYTTAEEAAGIGILTVILGVLLLIGCW...              HLA-A2   \n",
       "1  MPREDAHFIYGYPKKGHGHSYTTAEEAAGIGILTVILGVLLLIGCW...         HLA-A*02:01   \n",
       "2                                                NaN              HLA-A2   \n",
       "3  MSLEQRSLHCKPEEALEAQQEALGLVCVQAATSSSSPLVLGTLEEV...         HLA-A*11:01   \n",
       "4  MLLAVLYCLLWSFQTSAGHFPRACVSSKNLMEKECCPPWSGDRSPC...         HLA-B*44:03   \n",
       "\n",
       "  mhcrestriction_class  epitope_length  epitope_avg_hydro  \n",
       "0                    I               9           2.122222  \n",
       "1                    I              10           2.360000  \n",
       "2                    I              10          -0.140000  \n",
       "3                    I              10           1.620000  \n",
       "4                    I               9           1.233333  "
      ]
     },
     "execution_count": 45,
     "metadata": {},
     "output_type": "execute_result"
    }
   ],
   "source": [
    "epitopes.head()"
   ]
  },
  {
   "cell_type": "code",
   "execution_count": 46,
   "metadata": {},
   "outputs": [
    {
     "data": {
      "text/html": [
       "<div>\n",
       "<style scoped>\n",
       "    .dataframe tbody tr th:only-of-type {\n",
       "        vertical-align: middle;\n",
       "    }\n",
       "\n",
       "    .dataframe tbody tr th {\n",
       "        vertical-align: top;\n",
       "    }\n",
       "\n",
       "    .dataframe thead th {\n",
       "        text-align: right;\n",
       "    }\n",
       "</style>\n",
       "<table border=\"1\" class=\"dataframe\">\n",
       "  <thead>\n",
       "    <tr style=\"text-align: right;\">\n",
       "      <th></th>\n",
       "      <th>A</th>\n",
       "      <th>C</th>\n",
       "      <th>D</th>\n",
       "      <th>E</th>\n",
       "      <th>F</th>\n",
       "      <th>G</th>\n",
       "      <th>H</th>\n",
       "      <th>I</th>\n",
       "      <th>K</th>\n",
       "      <th>L</th>\n",
       "      <th>M</th>\n",
       "      <th>N</th>\n",
       "      <th>P</th>\n",
       "      <th>Q</th>\n",
       "      <th>R</th>\n",
       "      <th>S</th>\n",
       "      <th>T</th>\n",
       "      <th>V</th>\n",
       "      <th>W</th>\n",
       "      <th>Y</th>\n",
       "    </tr>\n",
       "  </thead>\n",
       "  <tbody>\n",
       "    <tr>\n",
       "      <th>0</th>\n",
       "      <td>0.222222</td>\n",
       "      <td>0.000000</td>\n",
       "      <td>0.000000</td>\n",
       "      <td>0.000000</td>\n",
       "      <td>0.000000</td>\n",
       "      <td>0.222222</td>\n",
       "      <td>0.0</td>\n",
       "      <td>0.222222</td>\n",
       "      <td>0.0</td>\n",
       "      <td>0.111111</td>\n",
       "      <td>0.0</td>\n",
       "      <td>0.0</td>\n",
       "      <td>0.0</td>\n",
       "      <td>0.0</td>\n",
       "      <td>0.0</td>\n",
       "      <td>0.000000</td>\n",
       "      <td>0.111111</td>\n",
       "      <td>0.111111</td>\n",
       "      <td>0.0</td>\n",
       "      <td>0.0</td>\n",
       "    </tr>\n",
       "    <tr>\n",
       "      <th>1</th>\n",
       "      <td>0.200000</td>\n",
       "      <td>0.000000</td>\n",
       "      <td>0.000000</td>\n",
       "      <td>0.000000</td>\n",
       "      <td>0.000000</td>\n",
       "      <td>0.200000</td>\n",
       "      <td>0.0</td>\n",
       "      <td>0.300000</td>\n",
       "      <td>0.0</td>\n",
       "      <td>0.100000</td>\n",
       "      <td>0.0</td>\n",
       "      <td>0.0</td>\n",
       "      <td>0.0</td>\n",
       "      <td>0.0</td>\n",
       "      <td>0.0</td>\n",
       "      <td>0.000000</td>\n",
       "      <td>0.100000</td>\n",
       "      <td>0.100000</td>\n",
       "      <td>0.0</td>\n",
       "      <td>0.0</td>\n",
       "    </tr>\n",
       "    <tr>\n",
       "      <th>2</th>\n",
       "      <td>0.100000</td>\n",
       "      <td>0.100000</td>\n",
       "      <td>0.100000</td>\n",
       "      <td>0.000000</td>\n",
       "      <td>0.100000</td>\n",
       "      <td>0.100000</td>\n",
       "      <td>0.2</td>\n",
       "      <td>0.000000</td>\n",
       "      <td>0.0</td>\n",
       "      <td>0.000000</td>\n",
       "      <td>0.0</td>\n",
       "      <td>0.0</td>\n",
       "      <td>0.1</td>\n",
       "      <td>0.0</td>\n",
       "      <td>0.0</td>\n",
       "      <td>0.100000</td>\n",
       "      <td>0.000000</td>\n",
       "      <td>0.100000</td>\n",
       "      <td>0.0</td>\n",
       "      <td>0.0</td>\n",
       "    </tr>\n",
       "    <tr>\n",
       "      <th>3</th>\n",
       "      <td>0.100000</td>\n",
       "      <td>0.000000</td>\n",
       "      <td>0.100000</td>\n",
       "      <td>0.000000</td>\n",
       "      <td>0.100000</td>\n",
       "      <td>0.100000</td>\n",
       "      <td>0.0</td>\n",
       "      <td>0.000000</td>\n",
       "      <td>0.1</td>\n",
       "      <td>0.400000</td>\n",
       "      <td>0.0</td>\n",
       "      <td>0.0</td>\n",
       "      <td>0.0</td>\n",
       "      <td>0.0</td>\n",
       "      <td>0.0</td>\n",
       "      <td>0.000000</td>\n",
       "      <td>0.000000</td>\n",
       "      <td>0.100000</td>\n",
       "      <td>0.0</td>\n",
       "      <td>0.0</td>\n",
       "    </tr>\n",
       "    <tr>\n",
       "      <th>4</th>\n",
       "      <td>0.111111</td>\n",
       "      <td>0.111111</td>\n",
       "      <td>0.111111</td>\n",
       "      <td>0.111111</td>\n",
       "      <td>0.111111</td>\n",
       "      <td>0.000000</td>\n",
       "      <td>0.0</td>\n",
       "      <td>0.000000</td>\n",
       "      <td>0.0</td>\n",
       "      <td>0.222222</td>\n",
       "      <td>0.0</td>\n",
       "      <td>0.0</td>\n",
       "      <td>0.0</td>\n",
       "      <td>0.0</td>\n",
       "      <td>0.0</td>\n",
       "      <td>0.111111</td>\n",
       "      <td>0.000000</td>\n",
       "      <td>0.111111</td>\n",
       "      <td>0.0</td>\n",
       "      <td>0.0</td>\n",
       "    </tr>\n",
       "  </tbody>\n",
       "</table>\n",
       "</div>"
      ],
      "text/plain": [
       "          A         C         D         E         F         G    H         I  \\\n",
       "0  0.222222  0.000000  0.000000  0.000000  0.000000  0.222222  0.0  0.222222   \n",
       "1  0.200000  0.000000  0.000000  0.000000  0.000000  0.200000  0.0  0.300000   \n",
       "2  0.100000  0.100000  0.100000  0.000000  0.100000  0.100000  0.2  0.000000   \n",
       "3  0.100000  0.000000  0.100000  0.000000  0.100000  0.100000  0.0  0.000000   \n",
       "4  0.111111  0.111111  0.111111  0.111111  0.111111  0.000000  0.0  0.000000   \n",
       "\n",
       "     K         L    M    N    P    Q    R         S         T         V    W  \\\n",
       "0  0.0  0.111111  0.0  0.0  0.0  0.0  0.0  0.000000  0.111111  0.111111  0.0   \n",
       "1  0.0  0.100000  0.0  0.0  0.0  0.0  0.0  0.000000  0.100000  0.100000  0.0   \n",
       "2  0.0  0.000000  0.0  0.0  0.1  0.0  0.0  0.100000  0.000000  0.100000  0.0   \n",
       "3  0.1  0.400000  0.0  0.0  0.0  0.0  0.0  0.000000  0.000000  0.100000  0.0   \n",
       "4  0.0  0.222222  0.0  0.0  0.0  0.0  0.0  0.111111  0.000000  0.111111  0.0   \n",
       "\n",
       "     Y  \n",
       "0  0.0  \n",
       "1  0.0  \n",
       "2  0.0  \n",
       "3  0.0  \n",
       "4  0.0  "
      ]
     },
     "execution_count": 46,
     "metadata": {},
     "output_type": "execute_result"
    }
   ],
   "source": [
    "epitope_composition_df.head()"
   ]
  },
  {
   "cell_type": "code",
   "execution_count": 47,
   "metadata": {},
   "outputs": [
    {
     "name": "stdout",
     "output_type": "stream",
     "text": [
      "<class 'pandas.core.frame.DataFrame'>\n",
      "RangeIndex: 28681 entries, 0 to 28680\n",
      "Data columns (total 7 columns):\n",
      " #   Column                Non-Null Count  Dtype  \n",
      "---  ------                --------------  -----  \n",
      " 0   epitope_objecttype    28681 non-null  object \n",
      " 1   epitope_name          28681 non-null  object \n",
      " 2   fullsequence          7164 non-null   object \n",
      " 3   mhcrestriction_name   17613 non-null  object \n",
      " 4   mhcrestriction_class  17613 non-null  object \n",
      " 5   epitope_length        28681 non-null  int64  \n",
      " 6   epitope_avg_hydro     28681 non-null  float64\n",
      "dtypes: float64(1), int64(1), object(5)\n",
      "memory usage: 1.5+ MB\n"
     ]
    }
   ],
   "source": [
    "epitopes.info()"
   ]
  },
  {
   "cell_type": "code",
   "execution_count": 48,
   "metadata": {},
   "outputs": [
    {
     "name": "stdout",
     "output_type": "stream",
     "text": [
      "<class 'pandas.core.frame.DataFrame'>\n",
      "RangeIndex: 28681 entries, 0 to 28680\n",
      "Data columns (total 20 columns):\n",
      " #   Column  Non-Null Count  Dtype  \n",
      "---  ------  --------------  -----  \n",
      " 0   A       28681 non-null  float64\n",
      " 1   C       28681 non-null  float64\n",
      " 2   D       28681 non-null  float64\n",
      " 3   E       28681 non-null  float64\n",
      " 4   F       28681 non-null  float64\n",
      " 5   G       28681 non-null  float64\n",
      " 6   H       28681 non-null  float64\n",
      " 7   I       28681 non-null  float64\n",
      " 8   K       28681 non-null  float64\n",
      " 9   L       28681 non-null  float64\n",
      " 10  M       28681 non-null  float64\n",
      " 11  N       28681 non-null  float64\n",
      " 12  P       28681 non-null  float64\n",
      " 13  Q       28681 non-null  float64\n",
      " 14  R       28681 non-null  float64\n",
      " 15  S       28681 non-null  float64\n",
      " 16  T       28681 non-null  float64\n",
      " 17  V       28681 non-null  float64\n",
      " 18  W       28681 non-null  float64\n",
      " 19  Y       28681 non-null  float64\n",
      "dtypes: float64(20)\n",
      "memory usage: 4.4 MB\n"
     ]
    }
   ],
   "source": [
    "epitope_composition_df.info()"
   ]
  },
  {
   "cell_type": "markdown",
   "metadata": {},
   "source": [
    "### Properties of Epitopes"
   ]
  },
  {
   "cell_type": "markdown",
   "metadata": {},
   "source": [
    "#### Length"
   ]
  },
  {
   "cell_type": "code",
   "execution_count": 49,
   "metadata": {},
   "outputs": [
    {
     "data": {
      "image/png": "[encoded data removed]",
      "text/plain": [
       "<Figure size 1000x600 with 1 Axes>"
      ]
     },
     "metadata": {},
     "output_type": "display_data"
    }
   ],
   "source": [
    "# hist of epitope length\n",
    "plt.figure(figsize=(10, 6))\n",
    "plt.hist(epitopes['epitope_length'], bins=20, edgecolor='black')\n",
    "plt.xlabel('Epitope Length')\n",
    "plt.ylabel('Frequency')\n",
    "plt.title('Histogram of Epitope Length')\n",
    "plt.show()"
   ]
  },
  {
   "cell_type": "code",
   "execution_count": 50,
   "metadata": {},
   "outputs": [
    {
     "data": {
      "text/plain": [
       "count    28681.000000\n",
       "mean        19.389422\n",
       "std          8.255925\n",
       "min          6.000000\n",
       "25%         10.000000\n",
       "50%         20.000000\n",
       "75%         25.000000\n",
       "max         50.000000\n",
       "Name: epitope_length, dtype: float64"
      ]
     },
     "execution_count": 50,
     "metadata": {},
     "output_type": "execute_result"
    }
   ],
   "source": [
    "epitopes['epitope_length'].describe()"
   ]
  },
  {
   "cell_type": "markdown",
   "metadata": {},
   "source": [
    "#### Hydrophobicity"
   ]
  },
  {
   "cell_type": "code",
   "execution_count": 51,
   "metadata": {},
   "outputs": [
    {
     "data": {
      "image/png": "[encoded data removed]",
      "text/plain": [
       "<Figure size 1000x600 with 1 Axes>"
      ]
     },
     "metadata": {},
     "output_type": "display_data"
    }
   ],
   "source": [
    "# histogram of average hydrophobicity\n",
    "plt.figure(figsize=(10, 6))\n",
    "plt.hist(epitopes['epitope_avg_hydro'], bins=20, edgecolor='black')\n",
    "plt.xlabel('Average Hydrophobicity')\n",
    "plt.ylabel('Frequency')\n",
    "plt.title('Histogram of Average Epitope Hydrophobicity')\n",
    "plt.show()"
   ]
  },
  {
   "cell_type": "code",
   "execution_count": 52,
   "metadata": {},
   "outputs": [
    {
     "data": {
      "text/plain": [
       "count    28681.000000\n",
       "mean        -0.178410\n",
       "std          0.883064\n",
       "min         -3.312000\n",
       "25%         -0.762500\n",
       "50%         -0.240000\n",
       "75%          0.333333\n",
       "max          3.688889\n",
       "Name: epitope_avg_hydro, dtype: float64"
      ]
     },
     "execution_count": 52,
     "metadata": {},
     "output_type": "execute_result"
    }
   ],
   "source": [
    "epitopes['epitope_avg_hydro'].describe()"
   ]
  },
  {
   "cell_type": "markdown",
   "metadata": {},
   "source": [
    "#### Composition"
   ]
  },
  {
   "cell_type": "code",
   "execution_count": 53,
   "metadata": {},
   "outputs": [
    {
     "data": {
      "image/png": "[encoded data removed]",
      "text/plain": [
       "<Figure size 1000x600 with 1 Axes>"
      ]
     },
     "metadata": {},
     "output_type": "display_data"
    }
   ],
   "source": [
    "# plot the composition of the epitopes, sort by the composition of the amino acids\n",
    "# Calculate mean composition and sort\n",
    "mean_composition = epitope_composition_df.mean().sort_values(ascending=False)\n",
    "\n",
    "# Plot the sorted composition\n",
    "plt.figure(figsize=(10, 6))\n",
    "plt.bar(mean_composition.index, mean_composition.values)\n",
    "plt.xlabel('Amino Acid')\n",
    "plt.ylabel('Composition')\n",
    "plt.title('Composition of Epitopes')\n",
    "plt.show()"
   ]
  },
  {
   "cell_type": "markdown",
   "metadata": {},
   "source": [
    "#### n-gram frequency analysis"
   ]
  },
  {
   "cell_type": "code",
   "execution_count": 54,
   "metadata": {},
   "outputs": [
    {
     "name": "stderr",
     "output_type": "stream",
     "text": [
      "/var/folders/5j/4p7c5_1x2fg18bk0nf74_hg40000gn/T/ipykernel_7377/3954531820.py:20: FutureWarning: \n",
      "\n",
      "Passing `palette` without assigning `hue` is deprecated and will be removed in v0.14.0. Assign the `x` variable to `hue` and set `legend=False` for the same effect.\n",
      "\n",
      "  sns.barplot(x='ngram', y='count', data=top_ngram, palette=\"viridis\")\n"
     ]
    },
    {
     "data": {
      "image/png": "[encoded data removed]",
      "text/plain": [
       "<Figure size 1200x600 with 1 Axes>"
      ]
     },
     "metadata": {},
     "output_type": "display_data"
    }
   ],
   "source": [
    "def ngram_frequency(peptides, n=2):\n",
    "    ngrams = []\n",
    "    for peptide in peptides:\n",
    "        if len(peptide) < n:\n",
    "            continue\n",
    "        for i in range(len(peptide) - n + 1):\n",
    "            ngram = peptide[i:i+n]\n",
    "            ngrams.append(ngram)\n",
    "    return Counter(ngrams)\n",
    "\n",
    "dipeptide_freq = ngram_frequency(epitopes['epitope_name'], n=2)\n",
    "\n",
    "df_ngram = pd.DataFrame(dipeptide_freq.items(), columns=['ngram', 'count'])\n",
    "df_ngram = df_ngram.sort_values('count', ascending=False)\n",
    "\n",
    "top_n = 20\n",
    "top_ngram = df_ngram.head(top_n)\n",
    "\n",
    "plt.figure(figsize=(12, 6))\n",
    "sns.barplot(x='ngram', y='count', data=top_ngram, palette=\"viridis\")\n",
    "plt.title(f\"Top {top_n} Dipeptides Frequency\")\n",
    "plt.xlabel(\"Dipeptide\")\n",
    "plt.ylabel(\"Frequency\")\n",
    "plt.show()"
   ]
  },
  {
   "cell_type": "markdown",
   "metadata": {},
   "source": [
    "### Properties of negative samples"
   ]
  },
  {
   "cell_type": "code",
   "execution_count": 55,
   "metadata": {},
   "outputs": [
    {
     "data": {
      "image/png": "[encoded data removed]",
      "text/plain": [
       "<Figure size 1000x600 with 1 Axes>"
      ]
     },
     "metadata": {},
     "output_type": "display_data"
    }
   ],
   "source": [
    "# hist of negative length\n",
    "plt.figure(figsize=(10, 6))\n",
    "plt.hist(negatives['negatives_length'], bins=20, edgecolor='black')\n",
    "plt.xlabel('Negative Length')\n",
    "plt.ylabel('Frequency')\n",
    "plt.title('Histogram of Negative Length')\n",
    "plt.show()"
   ]
  },
  {
   "cell_type": "code",
   "execution_count": 56,
   "metadata": {},
   "outputs": [
    {
     "data": {
      "image/png": "[encoded data removed]",
      "text/plain": [
       "<Figure size 1000x600 with 1 Axes>"
      ]
     },
     "metadata": {},
     "output_type": "display_data"
    }
   ],
   "source": [
    "# histogram of average hydrophobicity\n",
    "plt.figure(figsize=(10, 6))\n",
    "plt.hist(negatives['negatives_avg_hydro'], bins=20, edgecolor='black')\n",
    "plt.xlabel('Average Hydrophobicity')\n",
    "plt.ylabel('Frequency')\n",
    "plt.title('Histogram of Negative Average Hydrophobicity')\n",
    "plt.show()"
   ]
  },
  {
   "cell_type": "code",
   "execution_count": 57,
   "metadata": {},
   "outputs": [
    {
     "data": {
      "image/png": "[encoded data removed]",
      "text/plain": [
       "<Figure size 1000x600 with 1 Axes>"
      ]
     },
     "metadata": {},
     "output_type": "display_data"
    }
   ],
   "source": [
    "# plot the composition of the negatives, sort by the composition of the amino acids\n",
    "# Calculate mean composition and sort\n",
    "mean_composition = negatives_composition_df.mean().sort_values(ascending=False)\n",
    "\n",
    "# Plot the sorted composition\n",
    "plt.figure(figsize=(10, 6))\n",
    "plt.bar(mean_composition.index, mean_composition.values)\n",
    "plt.xlabel('Amino Acid')\n",
    "plt.ylabel('Composition')\n",
    "plt.title('Composition of Negative Samples')\n",
    "plt.show()"
   ]
  },
  {
   "cell_type": "code",
   "execution_count": 58,
   "metadata": {},
   "outputs": [
    {
     "name": "stdout",
     "output_type": "stream",
     "text": [
      "5\n"
     ]
    }
   ],
   "source": [
    "print(5)\n"
   ]
  }
 ],
 "metadata": {
  "kernelspec": {
   "display_name": ".venv",
   "language": "python",
   "name": "python3"
  },
  "language_info": {
   "codemirror_mode": {
    "name": "ipython",
    "version": 3
   },
   "file_extension": ".py",
   "mimetype": "text/x-python",
   "name": "python",
   "nbconvert_exporter": "python",
   "pygments_lexer": "ipython3",
   "version": "3.13.1"
  }
 },
 "nbformat": 4,
 "nbformat_minor": 2
}
