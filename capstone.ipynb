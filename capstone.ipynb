{
 "cells": [
  {
   "cell_type": "markdown",
   "metadata": {},
   "source": [
    "## Data import and Cleaning"
   ]
  },
  {
   "cell_type": "code",
   "execution_count": 1,
   "metadata": {},
   "outputs": [
    {
     "name": "stderr",
     "output_type": "stream",
     "text": [
      "/var/folders/5j/4p7c5_1x2fg18bk0nf74_hg40000gn/T/ipykernel_26817/1747643720.py:8: DtypeWarning: Columns (13,14,45,46,47,48,49,54,55,56,57,60,65,66,67,68,69,70,71,72,73,74,75,76,77,78,79,82,83,84,85,86,87,88,89,90,91,92,93,94,95,96,97,98,99,100,101,102,105,106,107,108,109,110,111,112,113,115,120,123,128,132,134,135,141,142,143,144,145,149,152) have mixed types. Specify dtype option on import or set low_memory=False.\n",
      "  assays = pd.read_csv(r'/Users/tariq/Documents/capstone/data/tcell_table_export_1740279970.csv')\n"
     ]
    }
   ],
   "source": [
    "import pandas as pd\n",
    "from collections import Counter\n",
    "import matplotlib.pyplot as plt\n",
    "import seaborn as sns\n",
    "import numpy as np\n",
    "\n",
    "epitopes = pd.read_csv(r'/Users/tariq/Documents/capstone/data/epitope_full_seq.csv')\n",
    "assays = pd.read_csv(r'/Users/tariq/Documents/capstone/data/tcell_table_export_1740279970.csv')\n",
    "\n",
    "# make all the column names snake case\n",
    "epitopes.columns = epitopes.columns.str.lower()\n",
    "assays.columns = assays.columns.str.lower()\n",
    "\n",
    "# remove spaces from column names\n",
    "epitopes.columns = epitopes.columns.str.replace(' ', '')\n",
    "epitopes.columns = epitopes.columns.str.replace('-', ' ')\n",
    "epitopes.columns = epitopes.columns.str.replace(' ', '_')\n",
    "\n",
    "assays.columns = assays.columns.str.replace(' ', '')\n",
    "assays.columns = assays.columns.str.replace('-', ' ')\n",
    "assays.columns = assays.columns.str.replace(' ', '_')\n",
    "\n",
    "epitopes = epitopes.filter(['epitope_objecttype', 'epitope_name', 'fullsequence'])\n",
    "assays = assays.filter(['epitope_name', 'epitope_moluculeparent', 'host_name', 'host_mhcpresent', 'assay_method','assay_responsemeasured', 'assay_qualitativemeasurement', 'mhcrestriction_name', 'mhcrestriction_class', 'assayantigen_name'])\n",
    "\n",
    "# map mhc name and class from the assays dataframe to a new column in the epitopes dataframe based on epitope_name\n",
    "mhc = assays.filter(['epitope_name', 'mhcrestriction_name', 'mhcrestriction_class'])\n",
    "mhc = mhc.drop_duplicates(subset=['epitope_name'])\n",
    "epitopes = epitopes.merge(mhc, on='epitope_name', how='left')"
   ]
  },
  {
   "cell_type": "code",
   "execution_count": 2,
   "metadata": {},
   "outputs": [
    {
     "data": {
      "text/html": [
       "<div>\n",
       "<style scoped>\n",
       "    .dataframe tbody tr th:only-of-type {\n",
       "        vertical-align: middle;\n",
       "    }\n",
       "\n",
       "    .dataframe tbody tr th {\n",
       "        vertical-align: top;\n",
       "    }\n",
       "\n",
       "    .dataframe thead th {\n",
       "        text-align: right;\n",
       "    }\n",
       "</style>\n",
       "<table border=\"1\" class=\"dataframe\">\n",
       "  <thead>\n",
       "    <tr style=\"text-align: right;\">\n",
       "      <th></th>\n",
       "      <th>epitope_objecttype</th>\n",
       "      <th>epitope_name</th>\n",
       "      <th>fullsequence</th>\n",
       "      <th>mhcrestriction_name</th>\n",
       "      <th>mhcrestriction_class</th>\n",
       "    </tr>\n",
       "  </thead>\n",
       "  <tbody>\n",
       "    <tr>\n",
       "      <th>0</th>\n",
       "      <td>Linear peptide</td>\n",
       "      <td>AAGIGILTV</td>\n",
       "      <td>MPREDAHFIYGYPKKGHGHSYTTAEEAAGIGILTVILGVLLLIGCW...</td>\n",
       "      <td>HLA-A2</td>\n",
       "      <td>I</td>\n",
       "    </tr>\n",
       "    <tr>\n",
       "      <th>1</th>\n",
       "      <td>Linear peptide</td>\n",
       "      <td>AAGIGILTVI</td>\n",
       "      <td>MPREDAHFIYGYPKKGHGHSYTTAEEAAGIGILTVILGVLLLIGCW...</td>\n",
       "      <td>HLA-A*02:01</td>\n",
       "      <td>I</td>\n",
       "    </tr>\n",
       "    <tr>\n",
       "      <th>2</th>\n",
       "      <td>Linear peptide</td>\n",
       "      <td>ACDPHSGHFV</td>\n",
       "      <td>NaN</td>\n",
       "      <td>HLA-A2</td>\n",
       "      <td>I</td>\n",
       "    </tr>\n",
       "    <tr>\n",
       "      <th>3</th>\n",
       "      <td>Linear peptide</td>\n",
       "      <td>ADLVGFLLLK</td>\n",
       "      <td>MSLEQRSLHCKPEEALEAQQEALGLVCVQAATSSSSPLVLGTLEEV...</td>\n",
       "      <td>HLA-A*11:01</td>\n",
       "      <td>I</td>\n",
       "    </tr>\n",
       "    <tr>\n",
       "      <th>4</th>\n",
       "      <td>Linear peptide</td>\n",
       "      <td>ADVEFCLSL</td>\n",
       "      <td>MLLAVLYCLLWSFQTSAGHFPRACVSSKNLMEKECCPPWSGDRSPC...</td>\n",
       "      <td>HLA-B*44:03</td>\n",
       "      <td>I</td>\n",
       "    </tr>\n",
       "  </tbody>\n",
       "</table>\n",
       "</div>"
      ],
      "text/plain": [
       "  epitope_objecttype epitope_name  \\\n",
       "0     Linear peptide    AAGIGILTV   \n",
       "1     Linear peptide   AAGIGILTVI   \n",
       "2     Linear peptide   ACDPHSGHFV   \n",
       "3     Linear peptide   ADLVGFLLLK   \n",
       "4     Linear peptide    ADVEFCLSL   \n",
       "\n",
       "                                        fullsequence mhcrestriction_name  \\\n",
       "0  MPREDAHFIYGYPKKGHGHSYTTAEEAAGIGILTVILGVLLLIGCW...              HLA-A2   \n",
       "1  MPREDAHFIYGYPKKGHGHSYTTAEEAAGIGILTVILGVLLLIGCW...         HLA-A*02:01   \n",
       "2                                                NaN              HLA-A2   \n",
       "3  MSLEQRSLHCKPEEALEAQQEALGLVCVQAATSSSSPLVLGTLEEV...         HLA-A*11:01   \n",
       "4  MLLAVLYCLLWSFQTSAGHFPRACVSSKNLMEKECCPPWSGDRSPC...         HLA-B*44:03   \n",
       "\n",
       "  mhcrestriction_class  \n",
       "0                    I  \n",
       "1                    I  \n",
       "2                    I  \n",
       "3                    I  \n",
       "4                    I  "
      ]
     },
     "execution_count": 2,
     "metadata": {},
     "output_type": "execute_result"
    }
   ],
   "source": [
    "epitopes.head()"
   ]
  },
  {
   "cell_type": "code",
   "execution_count": 3,
   "metadata": {},
   "outputs": [
    {
     "name": "stdout",
     "output_type": "stream",
     "text": [
      "<class 'pandas.core.frame.DataFrame'>\n",
      "RangeIndex: 28681 entries, 0 to 28680\n",
      "Data columns (total 5 columns):\n",
      " #   Column                Non-Null Count  Dtype \n",
      "---  ------                --------------  ----- \n",
      " 0   epitope_objecttype    28681 non-null  object\n",
      " 1   epitope_name          28681 non-null  object\n",
      " 2   fullsequence          7164 non-null   object\n",
      " 3   mhcrestriction_name   17613 non-null  object\n",
      " 4   mhcrestriction_class  17613 non-null  object\n",
      "dtypes: object(5)\n",
      "memory usage: 1.1+ MB\n"
     ]
    }
   ],
   "source": [
    "epitopes.info()"
   ]
  },
  {
   "cell_type": "markdown",
   "metadata": {},
   "source": [
    "## Feature Engineering"
   ]
  },
  {
   "cell_type": "code",
   "execution_count": 4,
   "metadata": {},
   "outputs": [],
   "source": [
    "epitopes['epitope_length'] = epitopes['epitope_name'].str.len()"
   ]
  },
  {
   "cell_type": "code",
   "execution_count": 5,
   "metadata": {},
   "outputs": [],
   "source": [
    "# Function to count amino acids in a peptide\n",
    "def count_amino_acids(peptide):\n",
    "    try:\n",
    "        # Create a ProteinAnalysis object for the peptide\n",
    "        analyzer = ProteinAnalysis(peptide)\n",
    "        # Get amino acid counts and normalize to frequencies\n",
    "        aa_count = analyzer.count_amino_acids()\n",
    "        total_aa = sum(aa_count.values())\n",
    "        aa_freq = {aa: count for aa, count in aa_count.items()}\n",
    "        # Add the peptide itself to the results\n",
    "        aa_freq['peptide'] = peptide\n",
    "        return aa_freq\n",
    "    except Exception as e:\n",
    "        # Handle invalid peptides (e.g., with non-standard amino acids)\n",
    "        result = {aa: 0 for aa in 'ACDEFGHIKLMNPQRSTVWY'}\n",
    "        result['peptide'] = peptide\n",
    "        return result\n",
    "\n",
    "# Create analyzer function that will be used in the next cell\n",
    "def analyzer(peptide):\n",
    "    return count_amino_acids(peptide)\n",
    "\n",
    "# Use both epitope name and peptide sequence in the DataFrame\n",
    "epitope_composition_df = epitopes.apply(lambda row: count_amino_acids(row['epitope_name']), axis=1).apply(pd.Series)\n"
   ]
  },
  {
   "cell_type": "code",
   "execution_count": 6,
   "metadata": {},
   "outputs": [
    {
     "data": {
      "text/html": [
       "<div>\n",
       "<style scoped>\n",
       "    .dataframe tbody tr th:only-of-type {\n",
       "        vertical-align: middle;\n",
       "    }\n",
       "\n",
       "    .dataframe tbody tr th {\n",
       "        vertical-align: top;\n",
       "    }\n",
       "\n",
       "    .dataframe thead th {\n",
       "        text-align: right;\n",
       "    }\n",
       "</style>\n",
       "<table border=\"1\" class=\"dataframe\">\n",
       "  <thead>\n",
       "    <tr style=\"text-align: right;\">\n",
       "      <th></th>\n",
       "      <th>A</th>\n",
       "      <th>C</th>\n",
       "      <th>D</th>\n",
       "      <th>E</th>\n",
       "      <th>F</th>\n",
       "      <th>G</th>\n",
       "      <th>H</th>\n",
       "      <th>I</th>\n",
       "      <th>K</th>\n",
       "      <th>L</th>\n",
       "      <th>...</th>\n",
       "      <th>N</th>\n",
       "      <th>P</th>\n",
       "      <th>Q</th>\n",
       "      <th>R</th>\n",
       "      <th>S</th>\n",
       "      <th>T</th>\n",
       "      <th>V</th>\n",
       "      <th>W</th>\n",
       "      <th>Y</th>\n",
       "      <th>peptide</th>\n",
       "    </tr>\n",
       "  </thead>\n",
       "  <tbody>\n",
       "    <tr>\n",
       "      <th>0</th>\n",
       "      <td>0</td>\n",
       "      <td>0</td>\n",
       "      <td>0</td>\n",
       "      <td>0</td>\n",
       "      <td>0</td>\n",
       "      <td>0</td>\n",
       "      <td>0</td>\n",
       "      <td>0</td>\n",
       "      <td>0</td>\n",
       "      <td>0</td>\n",
       "      <td>...</td>\n",
       "      <td>0</td>\n",
       "      <td>0</td>\n",
       "      <td>0</td>\n",
       "      <td>0</td>\n",
       "      <td>0</td>\n",
       "      <td>0</td>\n",
       "      <td>0</td>\n",
       "      <td>0</td>\n",
       "      <td>0</td>\n",
       "      <td>AAGIGILTV</td>\n",
       "    </tr>\n",
       "    <tr>\n",
       "      <th>1</th>\n",
       "      <td>0</td>\n",
       "      <td>0</td>\n",
       "      <td>0</td>\n",
       "      <td>0</td>\n",
       "      <td>0</td>\n",
       "      <td>0</td>\n",
       "      <td>0</td>\n",
       "      <td>0</td>\n",
       "      <td>0</td>\n",
       "      <td>0</td>\n",
       "      <td>...</td>\n",
       "      <td>0</td>\n",
       "      <td>0</td>\n",
       "      <td>0</td>\n",
       "      <td>0</td>\n",
       "      <td>0</td>\n",
       "      <td>0</td>\n",
       "      <td>0</td>\n",
       "      <td>0</td>\n",
       "      <td>0</td>\n",
       "      <td>AAGIGILTVI</td>\n",
       "    </tr>\n",
       "    <tr>\n",
       "      <th>2</th>\n",
       "      <td>0</td>\n",
       "      <td>0</td>\n",
       "      <td>0</td>\n",
       "      <td>0</td>\n",
       "      <td>0</td>\n",
       "      <td>0</td>\n",
       "      <td>0</td>\n",
       "      <td>0</td>\n",
       "      <td>0</td>\n",
       "      <td>0</td>\n",
       "      <td>...</td>\n",
       "      <td>0</td>\n",
       "      <td>0</td>\n",
       "      <td>0</td>\n",
       "      <td>0</td>\n",
       "      <td>0</td>\n",
       "      <td>0</td>\n",
       "      <td>0</td>\n",
       "      <td>0</td>\n",
       "      <td>0</td>\n",
       "      <td>ACDPHSGHFV</td>\n",
       "    </tr>\n",
       "    <tr>\n",
       "      <th>3</th>\n",
       "      <td>0</td>\n",
       "      <td>0</td>\n",
       "      <td>0</td>\n",
       "      <td>0</td>\n",
       "      <td>0</td>\n",
       "      <td>0</td>\n",
       "      <td>0</td>\n",
       "      <td>0</td>\n",
       "      <td>0</td>\n",
       "      <td>0</td>\n",
       "      <td>...</td>\n",
       "      <td>0</td>\n",
       "      <td>0</td>\n",
       "      <td>0</td>\n",
       "      <td>0</td>\n",
       "      <td>0</td>\n",
       "      <td>0</td>\n",
       "      <td>0</td>\n",
       "      <td>0</td>\n",
       "      <td>0</td>\n",
       "      <td>ADLVGFLLLK</td>\n",
       "    </tr>\n",
       "    <tr>\n",
       "      <th>4</th>\n",
       "      <td>0</td>\n",
       "      <td>0</td>\n",
       "      <td>0</td>\n",
       "      <td>0</td>\n",
       "      <td>0</td>\n",
       "      <td>0</td>\n",
       "      <td>0</td>\n",
       "      <td>0</td>\n",
       "      <td>0</td>\n",
       "      <td>0</td>\n",
       "      <td>...</td>\n",
       "      <td>0</td>\n",
       "      <td>0</td>\n",
       "      <td>0</td>\n",
       "      <td>0</td>\n",
       "      <td>0</td>\n",
       "      <td>0</td>\n",
       "      <td>0</td>\n",
       "      <td>0</td>\n",
       "      <td>0</td>\n",
       "      <td>ADVEFCLSL</td>\n",
       "    </tr>\n",
       "  </tbody>\n",
       "</table>\n",
       "<p>5 rows × 21 columns</p>\n",
       "</div>"
      ],
      "text/plain": [
       "   A  C  D  E  F  G  H  I  K  L  ...  N  P  Q  R  S  T  V  W  Y     peptide\n",
       "0  0  0  0  0  0  0  0  0  0  0  ...  0  0  0  0  0  0  0  0  0   AAGIGILTV\n",
       "1  0  0  0  0  0  0  0  0  0  0  ...  0  0  0  0  0  0  0  0  0  AAGIGILTVI\n",
       "2  0  0  0  0  0  0  0  0  0  0  ...  0  0  0  0  0  0  0  0  0  ACDPHSGHFV\n",
       "3  0  0  0  0  0  0  0  0  0  0  ...  0  0  0  0  0  0  0  0  0  ADLVGFLLLK\n",
       "4  0  0  0  0  0  0  0  0  0  0  ...  0  0  0  0  0  0  0  0  0   ADVEFCLSL\n",
       "\n",
       "[5 rows x 21 columns]"
      ]
     },
     "execution_count": 6,
     "metadata": {},
     "output_type": "execute_result"
    }
   ],
   "source": [
    "epitope_composition_df.head()"
   ]
  },
  {
   "cell_type": "code",
   "execution_count": 7,
   "metadata": {},
   "outputs": [],
   "source": [
    "# Example DataFrame with a 'peptide' column\n",
    "df = pd.DataFrame({\n",
    "    'peptide': ['ACDEFGHIK', 'LMNPQRSTV', 'WYFP']\n",
    "})\n",
    "\n",
    "# Kyte-Doolittle hydrophobicity scale\n",
    "kyte_doolittle = {\n",
    "    'I': 4.5, 'V': 4.2, 'L': 3.8, 'F': 2.8, 'C': 2.5,\n",
    "    'M': 1.9, 'A': 1.8, 'G': -0.4, 'T': -0.7, 'S': -0.8,\n",
    "    'W': -0.9, 'Y': -1.3, 'P': -1.6, 'H': -3.2, 'E': -3.5,\n",
    "    'Q': -3.5, 'D': -3.5, 'N': -3.5, 'K': -3.9, 'R': -4.5\n",
    "}\n",
    "\n",
    "def compute_avg_hydrophobicity(peptide):\n",
    "    # Get hydrophobicity scores for each amino acid; default to 0 if missing\n",
    "    scores = [kyte_doolittle.get(aa, 0) for aa in peptide]\n",
    "    return sum(scores) / len(scores) if scores else 0\n",
    "\n",
    "# Apply the function to the 'peptide' column to create a new column 'avg_hydro'\n",
    "epitopes['epitope_avg_hydro'] = epitopes['epitope_name'].apply(compute_avg_hydrophobicity)"
   ]
  },
  {
   "cell_type": "code",
   "execution_count": 8,
   "metadata": {},
   "outputs": [],
   "source": [
    "# Import the molecular_weight function from Bio.SeqUtils\n",
    "from Bio.SeqUtils.ProtParam import ProteinAnalysis\n",
    "\n",
    "def calculate_molecular_weight(peptide):\n",
    "    \"\"\"Calculate the molecular weight of a peptide sequence using Biopython.\"\"\"\n",
    "    try:\n",
    "        # ProteinAnalysis only works with standard amino acids\n",
    "        protein = ProteinAnalysis(peptide)\n",
    "        return protein.molecular_weight()\n",
    "    except Exception as e:\n",
    "        # Handle peptides with non-standard amino acids\n",
    "        return None\n",
    "\n",
    "# Apply the function to calculate molecular weight for each epitope\n",
    "epitopes['molecular_weight'] = epitopes['epitope_name'].apply(calculate_molecular_weight)"
   ]
  },
  {
   "cell_type": "code",
   "execution_count": 9,
   "metadata": {},
   "outputs": [],
   "source": [
    "def calculate_aromaticity(peptide):\n",
    "    \"\"\"Calculate the aromaticity of a peptide sequence using Biopython.\"\"\"\n",
    "    try:\n",
    "        # ProteinAnalysis only works with standard amino acids\n",
    "        protein = ProteinAnalysis(peptide)\n",
    "        return protein.aromaticity()\n",
    "    except Exception as e:\n",
    "        # Handle peptides with non-standard amino acids\n",
    "        return None\n",
    "\n",
    "# Apply the function to calculate molecular weight for each epitope\n",
    "epitopes['aromaticity'] = epitopes['epitope_name'].apply(calculate_aromaticity)"
   ]
  },
  {
   "cell_type": "code",
   "execution_count": 10,
   "metadata": {},
   "outputs": [],
   "source": [
    "def calculate_isoelectric_point(peptide):\n",
    "    \"\"\"Calculate the isoelectric point of a peptide sequence using Biopython.\"\"\"\n",
    "    try:\n",
    "        # ProteinAnalysis only works with standard amino acids\n",
    "        protein = ProteinAnalysis(peptide)\n",
    "        return protein.isoelectric_point()\n",
    "    except Exception as e:\n",
    "        # Handle peptides with non-standard amino acids\n",
    "        return None\n",
    "\n",
    "# Apply the function to calculate molecular weight for each epitope\n",
    "epitopes['isoelectric_point'] = epitopes['epitope_name'].apply(calculate_isoelectric_point)"
   ]
  },
  {
   "cell_type": "code",
   "execution_count": 11,
   "metadata": {},
   "outputs": [],
   "source": [
    "def calculate_instability(peptide):\n",
    "    \"\"\"Calculate the instability of a peptide sequence using Biopython.\"\"\"\n",
    "    try:\n",
    "        # ProteinAnalysis only works with standard amino acids\n",
    "        protein = ProteinAnalysis(peptide)\n",
    "        return protein.instability_index()\n",
    "    except Exception as e:\n",
    "        # Handle peptides with non-standard amino acids\n",
    "        return None\n",
    "\n",
    "# Apply the function to calculate molecular weight for each epitope\n",
    "epitopes['instability'] = epitopes['epitope_name'].apply(calculate_instability)"
   ]
  },
  {
   "cell_type": "code",
   "execution_count": 12,
   "metadata": {},
   "outputs": [],
   "source": [
    "def calculate_charge_at_pH7(peptide):\n",
    "    \"\"\"Calculate the charge of a peptide sequence at pH 7 using Biopython.\"\"\"\n",
    "    try:\n",
    "        # ProteinAnalysis only works with standard amino acids\n",
    "        protein = ProteinAnalysis(peptide)\n",
    "        return protein.charge_at_pH(7)\n",
    "    except Exception as e:\n",
    "        # Handle peptides with non-standard amino acids\n",
    "        return None\n",
    "\n",
    "# Apply the function to calculate molecular weight for each epitope\n",
    "epitopes['charge_at_pH7'] = epitopes['epitope_name'].apply(calculate_charge_at_pH7)"
   ]
  },
  {
   "cell_type": "code",
   "execution_count": 13,
   "metadata": {},
   "outputs": [
    {
     "data": {
      "text/html": [
       "<div>\n",
       "<style scoped>\n",
       "    .dataframe tbody tr th:only-of-type {\n",
       "        vertical-align: middle;\n",
       "    }\n",
       "\n",
       "    .dataframe tbody tr th {\n",
       "        vertical-align: top;\n",
       "    }\n",
       "\n",
       "    .dataframe thead th {\n",
       "        text-align: right;\n",
       "    }\n",
       "</style>\n",
       "<table border=\"1\" class=\"dataframe\">\n",
       "  <thead>\n",
       "    <tr style=\"text-align: right;\">\n",
       "      <th></th>\n",
       "      <th>epitope_objecttype</th>\n",
       "      <th>epitope_name</th>\n",
       "      <th>fullsequence</th>\n",
       "      <th>mhcrestriction_name</th>\n",
       "      <th>mhcrestriction_class</th>\n",
       "      <th>epitope_length</th>\n",
       "      <th>epitope_avg_hydro</th>\n",
       "      <th>molecular_weight</th>\n",
       "      <th>aromaticity</th>\n",
       "      <th>isoelectric_point</th>\n",
       "      <th>instability</th>\n",
       "      <th>charge_at_pH7</th>\n",
       "    </tr>\n",
       "  </thead>\n",
       "  <tbody>\n",
       "    <tr>\n",
       "      <th>0</th>\n",
       "      <td>Linear peptide</td>\n",
       "      <td>AAGIGILTV</td>\n",
       "      <td>MPREDAHFIYGYPKKGHGHSYTTAEEAAGIGILTVILGVLLLIGCW...</td>\n",
       "      <td>HLA-A2</td>\n",
       "      <td>I</td>\n",
       "      <td>9</td>\n",
       "      <td>2.122222</td>\n",
       "      <td>813.9814</td>\n",
       "      <td>0.000000</td>\n",
       "      <td>5.570017</td>\n",
       "      <td>11.422222</td>\n",
       "      <td>-0.204125</td>\n",
       "    </tr>\n",
       "    <tr>\n",
       "      <th>1</th>\n",
       "      <td>Linear peptide</td>\n",
       "      <td>AAGIGILTVI</td>\n",
       "      <td>MPREDAHFIYGYPKKGHGHSYTTAEEAAGIGILTVILGVLLLIGCW...</td>\n",
       "      <td>HLA-A*02:01</td>\n",
       "      <td>I</td>\n",
       "      <td>10</td>\n",
       "      <td>2.360000</td>\n",
       "      <td>927.1390</td>\n",
       "      <td>0.000000</td>\n",
       "      <td>5.570017</td>\n",
       "      <td>11.280000</td>\n",
       "      <td>-0.204125</td>\n",
       "    </tr>\n",
       "    <tr>\n",
       "      <th>2</th>\n",
       "      <td>Linear peptide</td>\n",
       "      <td>ACDPHSGHFV</td>\n",
       "      <td>NaN</td>\n",
       "      <td>HLA-A2</td>\n",
       "      <td>I</td>\n",
       "      <td>10</td>\n",
       "      <td>-0.140000</td>\n",
       "      <td>1069.1507</td>\n",
       "      <td>0.100000</td>\n",
       "      <td>5.972266</td>\n",
       "      <td>61.830000</td>\n",
       "      <td>-1.038557</td>\n",
       "    </tr>\n",
       "    <tr>\n",
       "      <th>3</th>\n",
       "      <td>Linear peptide</td>\n",
       "      <td>ADLVGFLLLK</td>\n",
       "      <td>MSLEQRSLHCKPEEALEAQQEALGLVCVQAATSSSSPLVLGTLEEV...</td>\n",
       "      <td>HLA-A*11:01</td>\n",
       "      <td>I</td>\n",
       "      <td>10</td>\n",
       "      <td>1.620000</td>\n",
       "      <td>1088.3394</td>\n",
       "      <td>0.100000</td>\n",
       "      <td>5.880358</td>\n",
       "      <td>-16.470000</td>\n",
       "      <td>-0.204004</td>\n",
       "    </tr>\n",
       "    <tr>\n",
       "      <th>4</th>\n",
       "      <td>Linear peptide</td>\n",
       "      <td>ADVEFCLSL</td>\n",
       "      <td>MLLAVLYCLLWSFQTSAGHFPRACVSSKNLMEKECCPPWSGDRSPC...</td>\n",
       "      <td>HLA-B*44:03</td>\n",
       "      <td>I</td>\n",
       "      <td>9</td>\n",
       "      <td>1.233333</td>\n",
       "      <td>996.1348</td>\n",
       "      <td>0.111111</td>\n",
       "      <td>4.050028</td>\n",
       "      <td>20.855556</td>\n",
       "      <td>-2.210095</td>\n",
       "    </tr>\n",
       "  </tbody>\n",
       "</table>\n",
       "</div>"
      ],
      "text/plain": [
       "  epitope_objecttype epitope_name  \\\n",
       "0     Linear peptide    AAGIGILTV   \n",
       "1     Linear peptide   AAGIGILTVI   \n",
       "2     Linear peptide   ACDPHSGHFV   \n",
       "3     Linear peptide   ADLVGFLLLK   \n",
       "4     Linear peptide    ADVEFCLSL   \n",
       "\n",
       "                                        fullsequence mhcrestriction_name  \\\n",
       "0  MPREDAHFIYGYPKKGHGHSYTTAEEAAGIGILTVILGVLLLIGCW...              HLA-A2   \n",
       "1  MPREDAHFIYGYPKKGHGHSYTTAEEAAGIGILTVILGVLLLIGCW...         HLA-A*02:01   \n",
       "2                                                NaN              HLA-A2   \n",
       "3  MSLEQRSLHCKPEEALEAQQEALGLVCVQAATSSSSPLVLGTLEEV...         HLA-A*11:01   \n",
       "4  MLLAVLYCLLWSFQTSAGHFPRACVSSKNLMEKECCPPWSGDRSPC...         HLA-B*44:03   \n",
       "\n",
       "  mhcrestriction_class  epitope_length  epitope_avg_hydro  molecular_weight  \\\n",
       "0                    I               9           2.122222          813.9814   \n",
       "1                    I              10           2.360000          927.1390   \n",
       "2                    I              10          -0.140000         1069.1507   \n",
       "3                    I              10           1.620000         1088.3394   \n",
       "4                    I               9           1.233333          996.1348   \n",
       "\n",
       "   aromaticity  isoelectric_point  instability  charge_at_pH7  \n",
       "0     0.000000           5.570017    11.422222      -0.204125  \n",
       "1     0.000000           5.570017    11.280000      -0.204125  \n",
       "2     0.100000           5.972266    61.830000      -1.038557  \n",
       "3     0.100000           5.880358   -16.470000      -0.204004  \n",
       "4     0.111111           4.050028    20.855556      -2.210095  "
      ]
     },
     "execution_count": 13,
     "metadata": {},
     "output_type": "execute_result"
    }
   ],
   "source": [
    "epitopes.head()"
   ]
  },
  {
   "cell_type": "markdown",
   "metadata": {},
   "source": [
    "## Generation of Negative Samples"
   ]
  },
  {
   "cell_type": "code",
   "execution_count": 14,
   "metadata": {},
   "outputs": [],
   "source": [
    "def generate_negatives(row):\n",
    "    epitope = row[\"epitope_name\"]\n",
    "    full_seq = row[\"fullsequence\"]\n",
    "    mhc = row[\"mhcrestriction_name\"]\n",
    "    \n",
    "    # Handle missing or empty sequences\n",
    "    if pd.isnull(full_seq) or full_seq == \"\":\n",
    "        return []\n",
    "    \n",
    "    epitope = str(epitope)\n",
    "    full_seq = str(full_seq)\n",
    "    ep_len = len(epitope)\n",
    "    \n",
    "    negatives = []\n",
    "    for i in range(len(full_seq) - ep_len + 1):\n",
    "        window = full_seq[i:i+ep_len]\n",
    "        if window != epitope:\n",
    "            negatives.append({\"peptide\": window, \"mhc\": mhc})\n",
    "    return negatives\n",
    "\n",
    "# Apply the function to each row\n",
    "\n",
    "#negatives = pd.DataFrame()\n",
    "#negatives['negatives'] = epitopes.apply(generate_negatives, axis=1)\n",
    "#negatives = negatives[[\"negatives\"]].explode(\"negatives\").reset_index(drop=True)\n",
    "#negatives.dropna(subset=[\"negatives\"], inplace=True)\n",
    "\n",
    "\n",
    "# Remove duplicate peptide-mhc combinations\n",
    "#print(f\"Shape before removing duplicates: {negatives.shape}\")\n",
    "#negatives = negatives.drop_duplicates(subset=['negatives'])\n",
    "#print(f\"Shape after removing duplicates: {negatives.shape}\")\n",
    "\n",
    "# Check for any remaining NaN values\n",
    "#print(f\"Number of NaN values in negatives: {negatives['negatives'].isna().sum()}\")\n",
    "\n",
    "\n",
    "# Extract peptide and mhc into separate columns\n",
    "#negatives['peptide'] = negatives['negatives'].apply(lambda x: x['peptide'])\n",
    "#negatives['mhc'] = negatives['negatives'].apply(lambda x: x['mhc'])\n",
    "\n",
    "# Calculate features on the peptide column\n",
    "#negatives['peptide_length'] = negatives['peptide'].apply(len)\n",
    "#negatives['peptide_avg_hydro'] = negatives['peptide'].apply(compute_avg_hydrophobicity)\n",
    "\n",
    "\n",
    "# Drop the original dictionary column if no longer needed\n",
    "#negatives.drop('negatives', axis=1, inplace=True)"
   ]
  },
  {
   "cell_type": "code",
   "execution_count": 15,
   "metadata": {},
   "outputs": [
    {
     "name": "stderr",
     "output_type": "stream",
     "text": [
      "/var/folders/5j/4p7c5_1x2fg18bk0nf74_hg40000gn/T/ipykernel_26817/3303630905.py:2: DtypeWarning: Columns (1) have mixed types. Specify dtype option on import or set low_memory=False.\n",
      "  negatives = pd.read_csv(\"data/negatives_MHC.csv\")\n"
     ]
    }
   ],
   "source": [
    "#negatives_composition_df = pd.read_csv(\"data/negatives_composition_df.csv\")\n",
    "negatives = pd.read_csv(\"data/negatives_MHC.csv\")\n",
    "\n",
    "negatives['molecular_weight'] = negatives['peptide'].apply(calculate_molecular_weight)\n",
    "negatives['aromaticity'] = negatives['peptide'].apply(calculate_aromaticity)\n",
    "negatives['isoelectric_point'] = negatives['peptide'].apply(calculate_isoelectric_point)\n",
    "negatives['instability'] = negatives['peptide'].apply(calculate_instability)\n",
    "negatives['charge_at_pH7'] = negatives['peptide'].apply(calculate_charge_at_pH7)\n",
    "#negatives_composition_df = negatives['peptide'].apply(count_amino_acids).apply(pd.Series)\n",
    "\n",
    "negatives.to_csv(\"data/negatives_MHC.csv\", index=False)"
   ]
  },
  {
   "cell_type": "code",
   "execution_count": 16,
   "metadata": {},
   "outputs": [],
   "source": [
    "nine_mers = epitopes[epitopes['epitope_length'] == 9]\n",
    "nine_mers.to_csv(\"data/ninemer_epitopes.csv\", index=False)"
   ]
  },
  {
   "cell_type": "code",
   "execution_count": 17,
   "metadata": {},
   "outputs": [],
   "source": [
    "ninemer_negatives = negatives[negatives['peptide_length'] == 9]\n",
    "ninemer_negatives_trimmed = ninemer_negatives[:50000]\n",
    "ninemer_negatives_trimmed.to_csv(\"data/ninemer_negatives_trimmed.csv\", index=False)"
   ]
  },
  {
   "cell_type": "markdown",
   "metadata": {},
   "source": [
    "## EDA"
   ]
  },
  {
   "cell_type": "markdown",
   "metadata": {},
   "source": [
    "### Data Summary"
   ]
  },
  {
   "cell_type": "code",
   "execution_count": 18,
   "metadata": {},
   "outputs": [
    {
     "data": {
      "text/html": [
       "<div>\n",
       "<style scoped>\n",
       "    .dataframe tbody tr th:only-of-type {\n",
       "        vertical-align: middle;\n",
       "    }\n",
       "\n",
       "    .dataframe tbody tr th {\n",
       "        vertical-align: top;\n",
       "    }\n",
       "\n",
       "    .dataframe thead th {\n",
       "        text-align: right;\n",
       "    }\n",
       "</style>\n",
       "<table border=\"1\" class=\"dataframe\">\n",
       "  <thead>\n",
       "    <tr style=\"text-align: right;\">\n",
       "      <th></th>\n",
       "      <th>epitope_objecttype</th>\n",
       "      <th>epitope_name</th>\n",
       "      <th>fullsequence</th>\n",
       "      <th>mhcrestriction_name</th>\n",
       "      <th>mhcrestriction_class</th>\n",
       "      <th>epitope_length</th>\n",
       "      <th>epitope_avg_hydro</th>\n",
       "      <th>molecular_weight</th>\n",
       "      <th>aromaticity</th>\n",
       "      <th>isoelectric_point</th>\n",
       "      <th>instability</th>\n",
       "      <th>charge_at_pH7</th>\n",
       "    </tr>\n",
       "  </thead>\n",
       "  <tbody>\n",
       "    <tr>\n",
       "      <th>0</th>\n",
       "      <td>Linear peptide</td>\n",
       "      <td>AAGIGILTV</td>\n",
       "      <td>MPREDAHFIYGYPKKGHGHSYTTAEEAAGIGILTVILGVLLLIGCW...</td>\n",
       "      <td>HLA-A2</td>\n",
       "      <td>I</td>\n",
       "      <td>9</td>\n",
       "      <td>2.122222</td>\n",
       "      <td>813.9814</td>\n",
       "      <td>0.000000</td>\n",
       "      <td>5.570017</td>\n",
       "      <td>11.422222</td>\n",
       "      <td>-0.204125</td>\n",
       "    </tr>\n",
       "    <tr>\n",
       "      <th>1</th>\n",
       "      <td>Linear peptide</td>\n",
       "      <td>AAGIGILTVI</td>\n",
       "      <td>MPREDAHFIYGYPKKGHGHSYTTAEEAAGIGILTVILGVLLLIGCW...</td>\n",
       "      <td>HLA-A*02:01</td>\n",
       "      <td>I</td>\n",
       "      <td>10</td>\n",
       "      <td>2.360000</td>\n",
       "      <td>927.1390</td>\n",
       "      <td>0.000000</td>\n",
       "      <td>5.570017</td>\n",
       "      <td>11.280000</td>\n",
       "      <td>-0.204125</td>\n",
       "    </tr>\n",
       "    <tr>\n",
       "      <th>2</th>\n",
       "      <td>Linear peptide</td>\n",
       "      <td>ACDPHSGHFV</td>\n",
       "      <td>NaN</td>\n",
       "      <td>HLA-A2</td>\n",
       "      <td>I</td>\n",
       "      <td>10</td>\n",
       "      <td>-0.140000</td>\n",
       "      <td>1069.1507</td>\n",
       "      <td>0.100000</td>\n",
       "      <td>5.972266</td>\n",
       "      <td>61.830000</td>\n",
       "      <td>-1.038557</td>\n",
       "    </tr>\n",
       "    <tr>\n",
       "      <th>3</th>\n",
       "      <td>Linear peptide</td>\n",
       "      <td>ADLVGFLLLK</td>\n",
       "      <td>MSLEQRSLHCKPEEALEAQQEALGLVCVQAATSSSSPLVLGTLEEV...</td>\n",
       "      <td>HLA-A*11:01</td>\n",
       "      <td>I</td>\n",
       "      <td>10</td>\n",
       "      <td>1.620000</td>\n",
       "      <td>1088.3394</td>\n",
       "      <td>0.100000</td>\n",
       "      <td>5.880358</td>\n",
       "      <td>-16.470000</td>\n",
       "      <td>-0.204004</td>\n",
       "    </tr>\n",
       "    <tr>\n",
       "      <th>4</th>\n",
       "      <td>Linear peptide</td>\n",
       "      <td>ADVEFCLSL</td>\n",
       "      <td>MLLAVLYCLLWSFQTSAGHFPRACVSSKNLMEKECCPPWSGDRSPC...</td>\n",
       "      <td>HLA-B*44:03</td>\n",
       "      <td>I</td>\n",
       "      <td>9</td>\n",
       "      <td>1.233333</td>\n",
       "      <td>996.1348</td>\n",
       "      <td>0.111111</td>\n",
       "      <td>4.050028</td>\n",
       "      <td>20.855556</td>\n",
       "      <td>-2.210095</td>\n",
       "    </tr>\n",
       "  </tbody>\n",
       "</table>\n",
       "</div>"
      ],
      "text/plain": [
       "  epitope_objecttype epitope_name  \\\n",
       "0     Linear peptide    AAGIGILTV   \n",
       "1     Linear peptide   AAGIGILTVI   \n",
       "2     Linear peptide   ACDPHSGHFV   \n",
       "3     Linear peptide   ADLVGFLLLK   \n",
       "4     Linear peptide    ADVEFCLSL   \n",
       "\n",
       "                                        fullsequence mhcrestriction_name  \\\n",
       "0  MPREDAHFIYGYPKKGHGHSYTTAEEAAGIGILTVILGVLLLIGCW...              HLA-A2   \n",
       "1  MPREDAHFIYGYPKKGHGHSYTTAEEAAGIGILTVILGVLLLIGCW...         HLA-A*02:01   \n",
       "2                                                NaN              HLA-A2   \n",
       "3  MSLEQRSLHCKPEEALEAQQEALGLVCVQAATSSSSPLVLGTLEEV...         HLA-A*11:01   \n",
       "4  MLLAVLYCLLWSFQTSAGHFPRACVSSKNLMEKECCPPWSGDRSPC...         HLA-B*44:03   \n",
       "\n",
       "  mhcrestriction_class  epitope_length  epitope_avg_hydro  molecular_weight  \\\n",
       "0                    I               9           2.122222          813.9814   \n",
       "1                    I              10           2.360000          927.1390   \n",
       "2                    I              10          -0.140000         1069.1507   \n",
       "3                    I              10           1.620000         1088.3394   \n",
       "4                    I               9           1.233333          996.1348   \n",
       "\n",
       "   aromaticity  isoelectric_point  instability  charge_at_pH7  \n",
       "0     0.000000           5.570017    11.422222      -0.204125  \n",
       "1     0.000000           5.570017    11.280000      -0.204125  \n",
       "2     0.100000           5.972266    61.830000      -1.038557  \n",
       "3     0.100000           5.880358   -16.470000      -0.204004  \n",
       "4     0.111111           4.050028    20.855556      -2.210095  "
      ]
     },
     "execution_count": 18,
     "metadata": {},
     "output_type": "execute_result"
    }
   ],
   "source": [
    "epitopes.head()"
   ]
  },
  {
   "cell_type": "code",
   "execution_count": 19,
   "metadata": {},
   "outputs": [
    {
     "data": {
      "text/html": [
       "<div>\n",
       "<style scoped>\n",
       "    .dataframe tbody tr th:only-of-type {\n",
       "        vertical-align: middle;\n",
       "    }\n",
       "\n",
       "    .dataframe tbody tr th {\n",
       "        vertical-align: top;\n",
       "    }\n",
       "\n",
       "    .dataframe thead th {\n",
       "        text-align: right;\n",
       "    }\n",
       "</style>\n",
       "<table border=\"1\" class=\"dataframe\">\n",
       "  <thead>\n",
       "    <tr style=\"text-align: right;\">\n",
       "      <th></th>\n",
       "      <th>A</th>\n",
       "      <th>C</th>\n",
       "      <th>D</th>\n",
       "      <th>E</th>\n",
       "      <th>F</th>\n",
       "      <th>G</th>\n",
       "      <th>H</th>\n",
       "      <th>I</th>\n",
       "      <th>K</th>\n",
       "      <th>L</th>\n",
       "      <th>...</th>\n",
       "      <th>N</th>\n",
       "      <th>P</th>\n",
       "      <th>Q</th>\n",
       "      <th>R</th>\n",
       "      <th>S</th>\n",
       "      <th>T</th>\n",
       "      <th>V</th>\n",
       "      <th>W</th>\n",
       "      <th>Y</th>\n",
       "      <th>peptide</th>\n",
       "    </tr>\n",
       "  </thead>\n",
       "  <tbody>\n",
       "    <tr>\n",
       "      <th>0</th>\n",
       "      <td>0</td>\n",
       "      <td>0</td>\n",
       "      <td>0</td>\n",
       "      <td>0</td>\n",
       "      <td>0</td>\n",
       "      <td>0</td>\n",
       "      <td>0</td>\n",
       "      <td>0</td>\n",
       "      <td>0</td>\n",
       "      <td>0</td>\n",
       "      <td>...</td>\n",
       "      <td>0</td>\n",
       "      <td>0</td>\n",
       "      <td>0</td>\n",
       "      <td>0</td>\n",
       "      <td>0</td>\n",
       "      <td>0</td>\n",
       "      <td>0</td>\n",
       "      <td>0</td>\n",
       "      <td>0</td>\n",
       "      <td>AAGIGILTV</td>\n",
       "    </tr>\n",
       "    <tr>\n",
       "      <th>1</th>\n",
       "      <td>0</td>\n",
       "      <td>0</td>\n",
       "      <td>0</td>\n",
       "      <td>0</td>\n",
       "      <td>0</td>\n",
       "      <td>0</td>\n",
       "      <td>0</td>\n",
       "      <td>0</td>\n",
       "      <td>0</td>\n",
       "      <td>0</td>\n",
       "      <td>...</td>\n",
       "      <td>0</td>\n",
       "      <td>0</td>\n",
       "      <td>0</td>\n",
       "      <td>0</td>\n",
       "      <td>0</td>\n",
       "      <td>0</td>\n",
       "      <td>0</td>\n",
       "      <td>0</td>\n",
       "      <td>0</td>\n",
       "      <td>AAGIGILTVI</td>\n",
       "    </tr>\n",
       "    <tr>\n",
       "      <th>2</th>\n",
       "      <td>0</td>\n",
       "      <td>0</td>\n",
       "      <td>0</td>\n",
       "      <td>0</td>\n",
       "      <td>0</td>\n",
       "      <td>0</td>\n",
       "      <td>0</td>\n",
       "      <td>0</td>\n",
       "      <td>0</td>\n",
       "      <td>0</td>\n",
       "      <td>...</td>\n",
       "      <td>0</td>\n",
       "      <td>0</td>\n",
       "      <td>0</td>\n",
       "      <td>0</td>\n",
       "      <td>0</td>\n",
       "      <td>0</td>\n",
       "      <td>0</td>\n",
       "      <td>0</td>\n",
       "      <td>0</td>\n",
       "      <td>ACDPHSGHFV</td>\n",
       "    </tr>\n",
       "    <tr>\n",
       "      <th>3</th>\n",
       "      <td>0</td>\n",
       "      <td>0</td>\n",
       "      <td>0</td>\n",
       "      <td>0</td>\n",
       "      <td>0</td>\n",
       "      <td>0</td>\n",
       "      <td>0</td>\n",
       "      <td>0</td>\n",
       "      <td>0</td>\n",
       "      <td>0</td>\n",
       "      <td>...</td>\n",
       "      <td>0</td>\n",
       "      <td>0</td>\n",
       "      <td>0</td>\n",
       "      <td>0</td>\n",
       "      <td>0</td>\n",
       "      <td>0</td>\n",
       "      <td>0</td>\n",
       "      <td>0</td>\n",
       "      <td>0</td>\n",
       "      <td>ADLVGFLLLK</td>\n",
       "    </tr>\n",
       "    <tr>\n",
       "      <th>4</th>\n",
       "      <td>0</td>\n",
       "      <td>0</td>\n",
       "      <td>0</td>\n",
       "      <td>0</td>\n",
       "      <td>0</td>\n",
       "      <td>0</td>\n",
       "      <td>0</td>\n",
       "      <td>0</td>\n",
       "      <td>0</td>\n",
       "      <td>0</td>\n",
       "      <td>...</td>\n",
       "      <td>0</td>\n",
       "      <td>0</td>\n",
       "      <td>0</td>\n",
       "      <td>0</td>\n",
       "      <td>0</td>\n",
       "      <td>0</td>\n",
       "      <td>0</td>\n",
       "      <td>0</td>\n",
       "      <td>0</td>\n",
       "      <td>ADVEFCLSL</td>\n",
       "    </tr>\n",
       "  </tbody>\n",
       "</table>\n",
       "<p>5 rows × 21 columns</p>\n",
       "</div>"
      ],
      "text/plain": [
       "   A  C  D  E  F  G  H  I  K  L  ...  N  P  Q  R  S  T  V  W  Y     peptide\n",
       "0  0  0  0  0  0  0  0  0  0  0  ...  0  0  0  0  0  0  0  0  0   AAGIGILTV\n",
       "1  0  0  0  0  0  0  0  0  0  0  ...  0  0  0  0  0  0  0  0  0  AAGIGILTVI\n",
       "2  0  0  0  0  0  0  0  0  0  0  ...  0  0  0  0  0  0  0  0  0  ACDPHSGHFV\n",
       "3  0  0  0  0  0  0  0  0  0  0  ...  0  0  0  0  0  0  0  0  0  ADLVGFLLLK\n",
       "4  0  0  0  0  0  0  0  0  0  0  ...  0  0  0  0  0  0  0  0  0   ADVEFCLSL\n",
       "\n",
       "[5 rows x 21 columns]"
      ]
     },
     "execution_count": 19,
     "metadata": {},
     "output_type": "execute_result"
    }
   ],
   "source": [
    "epitope_composition_df.head()"
   ]
  },
  {
   "cell_type": "code",
   "execution_count": 20,
   "metadata": {},
   "outputs": [
    {
     "name": "stdout",
     "output_type": "stream",
     "text": [
      "<class 'pandas.core.frame.DataFrame'>\n",
      "RangeIndex: 28681 entries, 0 to 28680\n",
      "Data columns (total 12 columns):\n",
      " #   Column                Non-Null Count  Dtype  \n",
      "---  ------                --------------  -----  \n",
      " 0   epitope_objecttype    28681 non-null  object \n",
      " 1   epitope_name          28681 non-null  object \n",
      " 2   fullsequence          7164 non-null   object \n",
      " 3   mhcrestriction_name   17613 non-null  object \n",
      " 4   mhcrestriction_class  17613 non-null  object \n",
      " 5   epitope_length        28681 non-null  int64  \n",
      " 6   epitope_avg_hydro     28681 non-null  float64\n",
      " 7   molecular_weight      28623 non-null  float64\n",
      " 8   aromaticity           28681 non-null  float64\n",
      " 9   isoelectric_point     28681 non-null  float64\n",
      " 10  instability           28623 non-null  float64\n",
      " 11  charge_at_pH7         28681 non-null  float64\n",
      "dtypes: float64(6), int64(1), object(5)\n",
      "memory usage: 2.6+ MB\n"
     ]
    }
   ],
   "source": [
    "epitopes.info()"
   ]
  },
  {
   "cell_type": "code",
   "execution_count": 21,
   "metadata": {},
   "outputs": [
    {
     "name": "stdout",
     "output_type": "stream",
     "text": [
      "<class 'pandas.core.frame.DataFrame'>\n",
      "RangeIndex: 28681 entries, 0 to 28680\n",
      "Data columns (total 21 columns):\n",
      " #   Column   Non-Null Count  Dtype \n",
      "---  ------   --------------  ----- \n",
      " 0   A        28681 non-null  int64 \n",
      " 1   C        28681 non-null  int64 \n",
      " 2   D        28681 non-null  int64 \n",
      " 3   E        28681 non-null  int64 \n",
      " 4   F        28681 non-null  int64 \n",
      " 5   G        28681 non-null  int64 \n",
      " 6   H        28681 non-null  int64 \n",
      " 7   I        28681 non-null  int64 \n",
      " 8   K        28681 non-null  int64 \n",
      " 9   L        28681 non-null  int64 \n",
      " 10  M        28681 non-null  int64 \n",
      " 11  N        28681 non-null  int64 \n",
      " 12  P        28681 non-null  int64 \n",
      " 13  Q        28681 non-null  int64 \n",
      " 14  R        28681 non-null  int64 \n",
      " 15  S        28681 non-null  int64 \n",
      " 16  T        28681 non-null  int64 \n",
      " 17  V        28681 non-null  int64 \n",
      " 18  W        28681 non-null  int64 \n",
      " 19  Y        28681 non-null  int64 \n",
      " 20  peptide  28681 non-null  object\n",
      "dtypes: int64(20), object(1)\n",
      "memory usage: 4.6+ MB\n"
     ]
    }
   ],
   "source": [
    "epitope_composition_df.info()"
   ]
  },
  {
   "cell_type": "markdown",
   "metadata": {},
   "source": [
    "### Properties of Epitopes"
   ]
  },
  {
   "cell_type": "markdown",
   "metadata": {},
   "source": [
    "#### Length"
   ]
  },
  {
   "cell_type": "code",
   "execution_count": 22,
   "metadata": {},
   "outputs": [
    {
     "data": {
      "image/png": "[encoded data removed]",
      "text/plain": [
       "<Figure size 1000x600 with 1 Axes>"
      ]
     },
     "metadata": {},
     "output_type": "display_data"
    }
   ],
   "source": [
    "# hist of epitope length\n",
    "plt.figure(figsize=(10, 6))\n",
    "plt.hist(epitopes['epitope_length'], bins=20, edgecolor='black')\n",
    "plt.xlabel('Epitope Length')\n",
    "plt.ylabel('Frequency')\n",
    "plt.title('Histogram of Epitope Length')\n",
    "plt.show()"
   ]
  },
  {
   "cell_type": "code",
   "execution_count": 23,
   "metadata": {},
   "outputs": [
    {
     "data": {
      "text/plain": [
       "count    28681.000000\n",
       "mean        19.389422\n",
       "std          8.255925\n",
       "min          6.000000\n",
       "25%         10.000000\n",
       "50%         20.000000\n",
       "75%         25.000000\n",
       "max         50.000000\n",
       "Name: epitope_length, dtype: float64"
      ]
     },
     "execution_count": 23,
     "metadata": {},
     "output_type": "execute_result"
    }
   ],
   "source": [
    "epitopes['epitope_length'].describe()"
   ]
  },
  {
   "cell_type": "markdown",
   "metadata": {},
   "source": [
    "#### Hydrophobicity"
   ]
  },
  {
   "cell_type": "code",
   "execution_count": 24,
   "metadata": {},
   "outputs": [
    {
     "data": {
      "image/png": "[encoded data removed]",
      "text/plain": [
       "<Figure size 1000x600 with 1 Axes>"
      ]
     },
     "metadata": {},
     "output_type": "display_data"
    }
   ],
   "source": [
    "# histogram of average hydrophobicity\n",
    "plt.figure(figsize=(10, 6))\n",
    "plt.hist(epitopes['epitope_avg_hydro'], bins=20, edgecolor='black')\n",
    "plt.xlabel('Average Hydrophobicity')\n",
    "plt.ylabel('Frequency')\n",
    "plt.title('Histogram of Average Epitope Hydrophobicity')\n",
    "plt.show()"
   ]
  },
  {
   "cell_type": "code",
   "execution_count": 25,
   "metadata": {},
   "outputs": [
    {
     "data": {
      "text/plain": [
       "count    28681.000000\n",
       "mean        -0.178410\n",
       "std          0.883064\n",
       "min         -3.312000\n",
       "25%         -0.762500\n",
       "50%         -0.240000\n",
       "75%          0.333333\n",
       "max          3.688889\n",
       "Name: epitope_avg_hydro, dtype: float64"
      ]
     },
     "execution_count": 25,
     "metadata": {},
     "output_type": "execute_result"
    }
   ],
   "source": [
    "epitopes['epitope_avg_hydro'].describe()"
   ]
  },
  {
   "cell_type": "markdown",
   "metadata": {},
   "source": [
    "#### Composition"
   ]
  },
  {
   "cell_type": "code",
   "execution_count": 26,
   "metadata": {},
   "outputs": [
    {
     "data": {
      "text/plain": [
       "\"\\nmean_composition = epitope_composition_df.mean().sort_values(ascending=False)\\n\\n# Plot the sorted composition\\nplt.figure(figsize=(10, 6))\\nplt.bar(mean_composition.index, mean_composition.values)\\nplt.xlabel('Amino Acid')\\nplt.ylabel('Composition')\\nplt.title('Composition of Epitopes')\\nplt.show()\\n\\n\""
      ]
     },
     "execution_count": 26,
     "metadata": {},
     "output_type": "execute_result"
    }
   ],
   "source": [
    "# plot the composition of the epitopes, sort by the composition of the amino acids\n",
    "# Calculate mean composition and sort\n",
    "\n",
    "'''\n",
    "mean_composition = epitope_composition_df.mean().sort_values(ascending=False)\n",
    "\n",
    "# Plot the sorted composition\n",
    "plt.figure(figsize=(10, 6))\n",
    "plt.bar(mean_composition.index, mean_composition.values)\n",
    "plt.xlabel('Amino Acid')\n",
    "plt.ylabel('Composition')\n",
    "plt.title('Composition of Epitopes')\n",
    "plt.show()\n",
    "\n",
    "'''"
   ]
  },
  {
   "cell_type": "markdown",
   "metadata": {},
   "source": [
    "#### n-gram frequency analysis"
   ]
  },
  {
   "cell_type": "code",
   "execution_count": 27,
   "metadata": {},
   "outputs": [
    {
     "name": "stderr",
     "output_type": "stream",
     "text": [
      "/var/folders/5j/4p7c5_1x2fg18bk0nf74_hg40000gn/T/ipykernel_26817/733366050.py:20: FutureWarning: \n",
      "\n",
      "Passing `palette` without assigning `hue` is deprecated and will be removed in v0.14.0. Assign the `x` variable to `hue` and set `legend=False` for the same effect.\n",
      "\n",
      "  sns.barplot(x='ngram', y='count', data=top_ngram, palette=\"viridis\")\n"
     ]
    },
    {
     "data": {
      "image/png": "[encoded data removed]",
      "text/plain": [
       "<Figure size 1200x600 with 1 Axes>"
      ]
     },
     "metadata": {},
     "output_type": "display_data"
    }
   ],
   "source": [
    "def ngram_frequency(peptides, n=2):\n",
    "    ngrams = []\n",
    "    for peptide in peptides:\n",
    "        if len(peptide) < n:\n",
    "            continue\n",
    "        for i in range(len(peptide) - n + 1):\n",
    "            ngram = peptide[i:i+n]\n",
    "            ngrams.append(ngram)\n",
    "    return Counter(ngrams)\n",
    "\n",
    "dipeptide_freq = ngram_frequency(epitopes['epitope_name'], n=2)\n",
    "\n",
    "df_ngram = pd.DataFrame(dipeptide_freq.items(), columns=['ngram', 'count'])\n",
    "df_ngram = df_ngram.sort_values('count', ascending=False)\n",
    "\n",
    "top_n = 20\n",
    "top_ngram = df_ngram.head(top_n)\n",
    "\n",
    "plt.figure(figsize=(12, 6))\n",
    "sns.barplot(x='ngram', y='count', data=top_ngram, palette=\"viridis\")\n",
    "plt.title(f\"Epitopes Top {top_n} Dipeptides Frequency\")\n",
    "plt.xlabel(\"Dipeptide\")\n",
    "plt.ylabel(\"Frequency\")\n",
    "plt.show()"
   ]
  },
  {
   "cell_type": "markdown",
   "metadata": {},
   "source": [
    "#### MHC Binding Affinity"
   ]
  },
  {
   "cell_type": "markdown",
   "metadata": {},
   "source": [
    "### Properties of negative samples"
   ]
  },
  {
   "cell_type": "code",
   "execution_count": 28,
   "metadata": {},
   "outputs": [
    {
     "data": {
      "image/png": "[encoded data removed]",
      "text/plain": [
       "<Figure size 1000x600 with 1 Axes>"
      ]
     },
     "metadata": {},
     "output_type": "display_data"
    }
   ],
   "source": [
    "# hist of negative length\n",
    "plt.figure(figsize=(10, 6))\n",
    "plt.hist(negatives['peptide_length'], bins=20, edgecolor='black')\n",
    "plt.xlabel('Negative Length')\n",
    "plt.ylabel('Frequency')\n",
    "plt.title('Histogram of Negative Length')\n",
    "plt.show()"
   ]
  },
  {
   "cell_type": "code",
   "execution_count": 29,
   "metadata": {},
   "outputs": [
    {
     "data": {
      "image/png": "[encoded data removed]",
      "text/plain": [
       "<Figure size 1000x600 with 1 Axes>"
      ]
     },
     "metadata": {},
     "output_type": "display_data"
    }
   ],
   "source": [
    "# histogram of average hydrophobicity\n",
    "plt.figure(figsize=(10, 6))\n",
    "plt.hist(negatives['peptide_avg_hydro'], bins=20, edgecolor='black')\n",
    "plt.xlabel('Average Hydrophobicity')\n",
    "plt.ylabel('Frequency')\n",
    "plt.title('Histogram of Negative Average Hydrophobicity')\n",
    "plt.show()"
   ]
  },
  {
   "cell_type": "code",
   "execution_count": 30,
   "metadata": {},
   "outputs": [
    {
     "data": {
      "text/plain": [
       "-0.414394907411759"
      ]
     },
     "execution_count": 30,
     "metadata": {},
     "output_type": "execute_result"
    }
   ],
   "source": [
    "negatives['peptide_avg_hydro'].mean()"
   ]
  },
  {
   "cell_type": "code",
   "execution_count": 31,
   "metadata": {},
   "outputs": [
    {
     "data": {
      "text/plain": [
       "\"\\nmean_composition = negatives_composition_df.mean().sort_values(ascending=False)\\n\\n# Plot the sorted composition\\nplt.figure(figsize=(10, 6))\\nplt.bar(mean_composition.index, mean_composition.values)\\nplt.xlabel('Amino Acid')\\nplt.ylabel('Composition')\\nplt.title('Composition of Negative Samples')\\nplt.show()\\n\""
      ]
     },
     "execution_count": 31,
     "metadata": {},
     "output_type": "execute_result"
    }
   ],
   "source": [
    "# plot the composition of the negatives, sort by the composition of the amino acids\n",
    "# Calculate mean composition and sort\n",
    "\n",
    "'''\n",
    "mean_composition = negatives_composition_df.mean().sort_values(ascending=False)\n",
    "\n",
    "# Plot the sorted composition\n",
    "plt.figure(figsize=(10, 6))\n",
    "plt.bar(mean_composition.index, mean_composition.values)\n",
    "plt.xlabel('Amino Acid')\n",
    "plt.ylabel('Composition')\n",
    "plt.title('Composition of Negative Samples')\n",
    "plt.show()\n",
    "'''"
   ]
  },
  {
   "cell_type": "markdown",
   "metadata": {},
   "source": [
    "## Modeling"
   ]
  },
  {
   "cell_type": "markdown",
   "metadata": {},
   "source": [
    "### Data Preprocessing"
   ]
  },
  {
   "cell_type": "code",
   "execution_count": 32,
   "metadata": {},
   "outputs": [],
   "source": [
    "epitopes = pd.read_csv(\"data/ninemer_epitopes.csv\")\n",
    "epitopes = epitopes.drop(columns=['epitope_objecttype', 'fullsequence', 'mhcrestriction_name', 'mhcrestriction_class', 'epitope_length'])\n",
    "epitopes = epitopes.rename(columns={'epitope_name': 'peptide', 'epitope_avg_hydro': 'peptide_avg_hydro'})\n",
    "epitopes_BA_pred = pd.read_csv(\"data/ninemer_epitopes_BA_pred.csv\")\n",
    "epitopes_composition = epitopes.apply(lambda row: count_amino_acids(row['peptide']), axis=1).apply(pd.Series)\n",
    "\n",
    "negatives = pd.read_csv(\"data/ninemer_negatives_trimmed.csv\")\n",
    "negatives = negatives.drop(columns=['mhc', 'peptide_length'])\n",
    "negatives = negatives.rename(columns={'peptide': 'peptide'})\n",
    "negatives = negatives.drop_duplicates(subset=['peptide'])\n",
    "negatives_BA_pred = pd.read_csv(\"data/ninemer_negatives_trimmed_BA_pred.csv\")\n",
    "negatives_BA_pred = negatives_BA_pred.drop_duplicates(subset=['peptide'])\n",
    "negatives_composition = negatives.apply(lambda row: count_amino_acids(row['peptide']), axis=1).apply(pd.Series)"
   ]
  },
  {
   "cell_type": "code",
   "execution_count": 33,
   "metadata": {},
   "outputs": [],
   "source": [
    "# Merge the 'Score_BA' column from epitopes_BA_pred into the epitopes dataframe\n",
    "epitopes = pd.merge(epitopes, epitopes_BA_pred[['peptide', 'Score_BA', 'ic50']], on='peptide', how='left')\n",
    "#epitopes = pd.merge(epitopes, epitopes_composition, on='peptide', how='left')\n",
    "\n",
    "negatives = pd.merge(negatives, negatives_BA_pred[['peptide', 'Score_BA', 'ic50']], on='peptide', how='left')\n",
    "#negatives = pd.merge(negatives, negatives_composition, on='peptide', how='left')"
   ]
  },
  {
   "cell_type": "code",
   "execution_count": 34,
   "metadata": {},
   "outputs": [
    {
     "data": {
      "text/html": [
       "<div>\n",
       "<style scoped>\n",
       "    .dataframe tbody tr th:only-of-type {\n",
       "        vertical-align: middle;\n",
       "    }\n",
       "\n",
       "    .dataframe tbody tr th {\n",
       "        vertical-align: top;\n",
       "    }\n",
       "\n",
       "    .dataframe thead th {\n",
       "        text-align: right;\n",
       "    }\n",
       "</style>\n",
       "<table border=\"1\" class=\"dataframe\">\n",
       "  <thead>\n",
       "    <tr style=\"text-align: right;\">\n",
       "      <th></th>\n",
       "      <th>peptide</th>\n",
       "      <th>peptide_avg_hydro</th>\n",
       "      <th>molecular_weight</th>\n",
       "      <th>aromaticity</th>\n",
       "      <th>isoelectric_point</th>\n",
       "      <th>instability</th>\n",
       "      <th>charge_at_pH7</th>\n",
       "      <th>Score_BA</th>\n",
       "      <th>ic50</th>\n",
       "    </tr>\n",
       "  </thead>\n",
       "  <tbody>\n",
       "    <tr>\n",
       "      <th>0</th>\n",
       "      <td>AAGIGILTV</td>\n",
       "      <td>2.122222</td>\n",
       "      <td>813.9814</td>\n",
       "      <td>0.000000</td>\n",
       "      <td>5.570017</td>\n",
       "      <td>11.422222</td>\n",
       "      <td>-0.204125</td>\n",
       "      <td>NaN</td>\n",
       "      <td>NaN</td>\n",
       "    </tr>\n",
       "    <tr>\n",
       "      <th>1</th>\n",
       "      <td>ADVEFCLSL</td>\n",
       "      <td>1.233333</td>\n",
       "      <td>996.1348</td>\n",
       "      <td>0.111111</td>\n",
       "      <td>4.050028</td>\n",
       "      <td>20.855556</td>\n",
       "      <td>-2.210095</td>\n",
       "      <td>0.190368</td>\n",
       "      <td>6374.36</td>\n",
       "    </tr>\n",
       "    <tr>\n",
       "      <th>2</th>\n",
       "      <td>AFLPWHRLF</td>\n",
       "      <td>0.533333</td>\n",
       "      <td>1186.4061</td>\n",
       "      <td>0.333333</td>\n",
       "      <td>9.800371</td>\n",
       "      <td>53.400000</td>\n",
       "      <td>0.883039</td>\n",
       "      <td>0.677877</td>\n",
       "      <td>32.63</td>\n",
       "    </tr>\n",
       "    <tr>\n",
       "      <th>3</th>\n",
       "      <td>ALAETSYVK</td>\n",
       "      <td>0.155556</td>\n",
       "      <td>981.1004</td>\n",
       "      <td>0.111111</td>\n",
       "      <td>6.045191</td>\n",
       "      <td>5.688889</td>\n",
       "      <td>-0.203313</td>\n",
       "      <td>0.652230</td>\n",
       "      <td>43.07</td>\n",
       "    </tr>\n",
       "    <tr>\n",
       "      <th>4</th>\n",
       "      <td>ALDVYNGLL</td>\n",
       "      <td>0.966667</td>\n",
       "      <td>977.1115</td>\n",
       "      <td>0.111111</td>\n",
       "      <td>4.050028</td>\n",
       "      <td>-16.188889</td>\n",
       "      <td>-1.204004</td>\n",
       "      <td>0.493034</td>\n",
       "      <td>241.11</td>\n",
       "    </tr>\n",
       "  </tbody>\n",
       "</table>\n",
       "</div>"
      ],
      "text/plain": [
       "     peptide  peptide_avg_hydro  molecular_weight  aromaticity  \\\n",
       "0  AAGIGILTV           2.122222          813.9814     0.000000   \n",
       "1  ADVEFCLSL           1.233333          996.1348     0.111111   \n",
       "2  AFLPWHRLF           0.533333         1186.4061     0.333333   \n",
       "3  ALAETSYVK           0.155556          981.1004     0.111111   \n",
       "4  ALDVYNGLL           0.966667          977.1115     0.111111   \n",
       "\n",
       "   isoelectric_point  instability  charge_at_pH7  Score_BA     ic50  \n",
       "0           5.570017    11.422222      -0.204125       NaN      NaN  \n",
       "1           4.050028    20.855556      -2.210095  0.190368  6374.36  \n",
       "2           9.800371    53.400000       0.883039  0.677877    32.63  \n",
       "3           6.045191     5.688889      -0.203313  0.652230    43.07  \n",
       "4           4.050028   -16.188889      -1.204004  0.493034   241.11  "
      ]
     },
     "execution_count": 34,
     "metadata": {},
     "output_type": "execute_result"
    }
   ],
   "source": [
    "epitopes.head()"
   ]
  },
  {
   "cell_type": "code",
   "execution_count": 35,
   "metadata": {},
   "outputs": [
    {
     "data": {
      "text/html": [
       "<div>\n",
       "<style scoped>\n",
       "    .dataframe tbody tr th:only-of-type {\n",
       "        vertical-align: middle;\n",
       "    }\n",
       "\n",
       "    .dataframe tbody tr th {\n",
       "        vertical-align: top;\n",
       "    }\n",
       "\n",
       "    .dataframe thead th {\n",
       "        text-align: right;\n",
       "    }\n",
       "</style>\n",
       "<table border=\"1\" class=\"dataframe\">\n",
       "  <thead>\n",
       "    <tr style=\"text-align: right;\">\n",
       "      <th></th>\n",
       "      <th>peptide</th>\n",
       "      <th>peptide_avg_hydro</th>\n",
       "      <th>molecular_weight</th>\n",
       "      <th>aromaticity</th>\n",
       "      <th>isoelectric_point</th>\n",
       "      <th>instability</th>\n",
       "      <th>charge_at_pH7</th>\n",
       "      <th>Score_BA</th>\n",
       "      <th>ic50</th>\n",
       "    </tr>\n",
       "  </thead>\n",
       "  <tbody>\n",
       "    <tr>\n",
       "      <th>0</th>\n",
       "      <td>MPREDAHFI</td>\n",
       "      <td>-0.588889</td>\n",
       "      <td>1115.2622</td>\n",
       "      <td>0.111111</td>\n",
       "      <td>5.302703</td>\n",
       "      <td>49.777778</td>\n",
       "      <td>-1.408550</td>\n",
       "      <td>0.304493</td>\n",
       "      <td>1854.24</td>\n",
       "    </tr>\n",
       "    <tr>\n",
       "      <th>1</th>\n",
       "      <td>PREDAHFIY</td>\n",
       "      <td>-0.944444</td>\n",
       "      <td>1147.2394</td>\n",
       "      <td>0.222222</td>\n",
       "      <td>5.328337</td>\n",
       "      <td>0.955556</td>\n",
       "      <td>-0.951375</td>\n",
       "      <td>0.015808</td>\n",
       "      <td>42139.44</td>\n",
       "    </tr>\n",
       "    <tr>\n",
       "      <th>2</th>\n",
       "      <td>REDAHFIYG</td>\n",
       "      <td>-0.811111</td>\n",
       "      <td>1107.1755</td>\n",
       "      <td>0.222222</td>\n",
       "      <td>5.320607</td>\n",
       "      <td>-0.100000</td>\n",
       "      <td>-1.149802</td>\n",
       "      <td>0.054031</td>\n",
       "      <td>27866.34</td>\n",
       "    </tr>\n",
       "    <tr>\n",
       "      <th>3</th>\n",
       "      <td>EDAHFIYGY</td>\n",
       "      <td>-0.455556</td>\n",
       "      <td>1114.1630</td>\n",
       "      <td>0.333333</td>\n",
       "      <td>4.353321</td>\n",
       "      <td>-9.533333</td>\n",
       "      <td>-2.076875</td>\n",
       "      <td>0.027312</td>\n",
       "      <td>37207.61</td>\n",
       "    </tr>\n",
       "    <tr>\n",
       "      <th>4</th>\n",
       "      <td>DAHFIYGYP</td>\n",
       "      <td>-0.244444</td>\n",
       "      <td>1082.1642</td>\n",
       "      <td>0.333333</td>\n",
       "      <td>5.076654</td>\n",
       "      <td>-17.222222</td>\n",
       "      <td>-1.153601</td>\n",
       "      <td>0.056538</td>\n",
       "      <td>27120.62</td>\n",
       "    </tr>\n",
       "  </tbody>\n",
       "</table>\n",
       "</div>"
      ],
      "text/plain": [
       "     peptide  peptide_avg_hydro  molecular_weight  aromaticity  \\\n",
       "0  MPREDAHFI          -0.588889         1115.2622     0.111111   \n",
       "1  PREDAHFIY          -0.944444         1147.2394     0.222222   \n",
       "2  REDAHFIYG          -0.811111         1107.1755     0.222222   \n",
       "3  EDAHFIYGY          -0.455556         1114.1630     0.333333   \n",
       "4  DAHFIYGYP          -0.244444         1082.1642     0.333333   \n",
       "\n",
       "   isoelectric_point  instability  charge_at_pH7  Score_BA      ic50  \n",
       "0           5.302703    49.777778      -1.408550  0.304493   1854.24  \n",
       "1           5.328337     0.955556      -0.951375  0.015808  42139.44  \n",
       "2           5.320607    -0.100000      -1.149802  0.054031  27866.34  \n",
       "3           4.353321    -9.533333      -2.076875  0.027312  37207.61  \n",
       "4           5.076654   -17.222222      -1.153601  0.056538  27120.62  "
      ]
     },
     "execution_count": 35,
     "metadata": {},
     "output_type": "execute_result"
    }
   ],
   "source": [
    "negatives.head()"
   ]
  },
  {
   "cell_type": "code",
   "execution_count": 48,
   "metadata": {},
   "outputs": [
    {
     "data": {
      "image/png": "[encoded data removed]",
      "text/plain": [
       "<Figure size 1600x600 with 2 Axes>"
      ]
     },
     "metadata": {},
     "output_type": "display_data"
    }
   ],
   "source": [
    "# plot Score_BA for epitopes and negatives side by side\n",
    "fig, (ax1, ax2) = plt.subplots(1, 2, figsize=(16, 6))\n",
    "\n",
    "# Plot for epitopes\n",
    "ax1.hist(epitopes['Score_BA'], bins=20, edgecolor='black')\n",
    "ax1.set_xlabel('Binding Affinity')\n",
    "ax1.set_ylabel('Frequency')\n",
    "ax1.set_title('Histogram of Binding Affinity for Epitopes')\n",
    "\n",
    "# Plot for negatives\n",
    "ax2.hist(negatives['Score_BA'], bins=20, edgecolor='black')\n",
    "ax2.set_xlabel('Binding Affinity')\n",
    "ax2.set_ylabel('Frequency')\n",
    "ax2.set_title('Histogram of Binding Affinity for Negatives')\n",
    "\n",
    "plt.tight_layout()\n",
    "plt.show()"
   ]
  },
  {
   "cell_type": "code",
   "execution_count": 46,
   "metadata": {},
   "outputs": [
    {
     "data": {
      "image/png": "[encoded data removed]",
      "text/plain": [
       "<Figure size 1000x600 with 1 Axes>"
      ]
     },
     "metadata": {},
     "output_type": "display_data"
    }
   ],
   "source": []
  },
  {
   "cell_type": "code",
   "execution_count": 36,
   "metadata": {},
   "outputs": [
    {
     "name": "stdout",
     "output_type": "stream",
     "text": [
      "Training set: 20502 samples\n",
      "Testing set: 5126 samples\n",
      "Positive samples in training: 4236\n",
      "Negative samples in training: 16266\n",
      "Positive samples in testing: 1059\n",
      "Negative samples in testing: 4067\n",
      "Scaled numerical features: ['peptide_avg_hydro', 'molecular_weight', 'aromaticity', 'isoelectric_point', 'instability', 'Score_BA', 'charge_at_pH7']\n"
     ]
    }
   ],
   "source": [
    "# Add label column to epitopes dataframe (positive class = 1)\n",
    "epitopes['label'] = 1\n",
    "\n",
    "# Add label column to negatives dataframe (negative class = 0)\n",
    "negatives['label'] = 0\n",
    "\n",
    "# Combine the positive and negative examples\n",
    "combined_data = pd.concat([epitopes, negatives], ignore_index=True)\n",
    "\n",
    "# Shuffle the combined dataset\n",
    "combined_data = combined_data.sample(frac=1, random_state=42).reset_index(drop=True)\n",
    "\n",
    "# Define features and target\n",
    "X = combined_data.drop(columns=['peptide', 'label'])\n",
    "y = combined_data['label']\n",
    "\n",
    "# Identify numerical columns to scale (exclude one-hot encoded amino acid columns)\n",
    "numerical_cols = ['peptide_avg_hydro', 'molecular_weight', 'aromaticity', 'isoelectric_point', 'instability','Score_BA', 'charge_at_pH7']\n",
    "amino_acid_cols = [col for col in X.columns if col not in numerical_cols]\n",
    "\n",
    "# Split the data into training and testing sets (80% train, 20% test)\n",
    "from sklearn.model_selection import train_test_split\n",
    "from sklearn.preprocessing import StandardScaler\n",
    "\n",
    "X_train, X_test, y_train, y_test = train_test_split(\n",
    "    X, y, test_size=0.2, random_state=42, stratify=y\n",
    ")\n",
    "\n",
    "# Scale numerical features using StandardScaler\n",
    "scaler = StandardScaler()\n",
    "X_train[numerical_cols] = scaler.fit_transform(X_train[numerical_cols])\n",
    "X_test[numerical_cols] = scaler.transform(X_test[numerical_cols])\n",
    "\n",
    "# Print the shapes to verify the split\n",
    "print(f\"Training set: {X_train.shape[0]} samples\")\n",
    "print(f\"Testing set: {X_test.shape[0]} samples\")\n",
    "print(f\"Positive samples in training: {sum(y_train == 1)}\")\n",
    "print(f\"Negative samples in training: {sum(y_train == 0)}\")\n",
    "print(f\"Positive samples in testing: {sum(y_test == 1)}\")\n",
    "print(f\"Negative samples in testing: {sum(y_test == 0)}\")\n",
    "print(f\"Scaled numerical features: {numerical_cols}\")\n"
   ]
  },
  {
   "cell_type": "code",
   "execution_count": 37,
   "metadata": {},
   "outputs": [],
   "source": [
    "# drop the Score_BA column\n",
    "#X_train = X_train.drop(columns=['Score_BA'])\n",
    "#X_test = X_test.drop(columns=['Score_BA'])"
   ]
  },
  {
   "cell_type": "code",
   "execution_count": 38,
   "metadata": {},
   "outputs": [
    {
     "name": "stdout",
     "output_type": "stream",
     "text": [
      "Random Forest Model Evaluation:\n",
      "Accuracy: 0.9138\n",
      "\n",
      "Classification Report:\n",
      "              precision    recall  f1-score   support\n",
      "\n",
      "           0       0.94      0.96      0.95      4067\n",
      "           1       0.82      0.75      0.78      1059\n",
      "\n",
      "    accuracy                           0.91      5126\n",
      "   macro avg       0.88      0.85      0.86      5126\n",
      "weighted avg       0.91      0.91      0.91      5126\n",
      "\n",
      "\n",
      "Confusion Matrix:\n",
      "[[3893  174]\n",
      " [ 268  791]]\n",
      "\n",
      "ROC AUC Score: 0.9523\n"
     ]
    },
    {
     "data": {
      "image/png": "[encoded data removed]",
      "text/plain": [
       "<Figure size 800x600 with 1 Axes>"
      ]
     },
     "metadata": {},
     "output_type": "display_data"
    },
    {
     "data": {
      "image/png": "[encoded data removed]",
      "text/plain": [
       "<Figure size 1000x600 with 1 Axes>"
      ]
     },
     "metadata": {},
     "output_type": "display_data"
    }
   ],
   "source": [
    "# Train a Random Forest model\n",
    "from sklearn.ensemble import RandomForestClassifier\n",
    "from sklearn.metrics import classification_report, accuracy_score, confusion_matrix, roc_auc_score, roc_curve\n",
    "import matplotlib.pyplot as plt\n",
    "import numpy as np\n",
    "\n",
    "# Initialize the Random Forest Classifier\n",
    "rf_model = RandomForestClassifier(\n",
    "    n_estimators=100,  # Number of trees\n",
    "    max_depth=None,    # Maximum depth of trees\n",
    "    min_samples_split=2,\n",
    "    min_samples_leaf=1,\n",
    "    random_state=42\n",
    ")\n",
    "\n",
    "# Train the model\n",
    "rf_model.fit(X_train, y_train)\n",
    "\n",
    "# Make predictions on the test set\n",
    "y_pred = rf_model.predict(X_test)\n",
    "y_pred_proba = rf_model.predict_proba(X_test)[:, 1]  # Probability estimates for positive class\n",
    "\n",
    "# Evaluate the model\n",
    "print(\"Random Forest Model Evaluation:\")\n",
    "print(f\"Accuracy: {accuracy_score(y_test, y_pred):.4f}\")\n",
    "print(\"\\nClassification Report:\")\n",
    "print(classification_report(y_test, y_pred))\n",
    "\n",
    "# Confusion Matrix\n",
    "cm = confusion_matrix(y_test, y_pred)\n",
    "print(\"\\nConfusion Matrix:\")\n",
    "print(cm)\n",
    "\n",
    "# Calculate ROC AUC\n",
    "roc_auc = roc_auc_score(y_test, y_pred_proba)\n",
    "print(f\"\\nROC AUC Score: {roc_auc:.4f}\")\n",
    "\n",
    "# Plot ROC Curve\n",
    "fpr, tpr, _ = roc_curve(y_test, y_pred_proba)\n",
    "plt.figure(figsize=(8, 6))\n",
    "plt.plot(fpr, tpr, label=f'Random Forest (AUC = {roc_auc:.4f})')\n",
    "plt.plot([0, 1], [0, 1], 'k--', label='Random (AUC = 0.5)')\n",
    "plt.xlabel('False Positive Rate')\n",
    "plt.ylabel('True Positive Rate')\n",
    "plt.title('ROC Curve - Random Forest')\n",
    "plt.legend()\n",
    "plt.grid(True, alpha=0.3)\n",
    "plt.show()\n",
    "\n",
    "# Feature importance\n",
    "feature_importance = pd.DataFrame({\n",
    "    'Feature': X_train.columns,\n",
    "    'Importance': rf_model.feature_importances_\n",
    "})\n",
    "feature_importance = feature_importance.sort_values('Importance', ascending=False)\n",
    "\n",
    "# Plot top 15 features\n",
    "plt.figure(figsize=(10, 6))\n",
    "top_features = feature_importance.head(15)\n",
    "plt.barh(np.arange(len(top_features)), top_features['Importance'], align='center')\n",
    "plt.yticks(np.arange(len(top_features)), top_features['Feature'])\n",
    "plt.xlabel('Importance')\n",
    "plt.title('Top 15 Feature Importance - Random Forest')\n",
    "plt.tight_layout()\n",
    "plt.show()\n"
   ]
  },
  {
   "cell_type": "markdown",
   "metadata": {},
   "source": [
    "### My own binding affinity model"
   ]
  },
  {
   "cell_type": "code",
   "execution_count": null,
   "metadata": {},
   "outputs": [],
   "source": []
  }
 ],
 "metadata": {
  "kernelspec": {
   "display_name": ".venv",
   "language": "python",
   "name": "python3"
  },
  "language_info": {
   "codemirror_mode": {
    "name": "ipython",
    "version": 3
   },
   "file_extension": ".py",
   "mimetype": "text/x-python",
   "name": "python",
   "nbconvert_exporter": "python",
   "pygments_lexer": "ipython3",
   "version": "3.12.9"
  }
 },
 "nbformat": 4,
 "nbformat_minor": 2
}
