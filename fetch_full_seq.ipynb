{
 "cells": [
  {
   "cell_type": "code",
   "execution_count": null,
   "metadata": {},
   "outputs": [
    {
     "name": "stderr",
     "output_type": "stream",
     "text": [
      "/var/folders/5j/4p7c5_1x2fg18bk0nf74_hg40000gn/T/ipykernel_84018/1006790990.py:6: DtypeWarning: Columns (3,4,22) have mixed types. Specify dtype option on import or set low_memory=False.\n",
      "  epitopes = pd.read_csv(r'/Users/tariq/Documents/capstone/data/epitope_table_export_1740287020.csv')\n"
     ]
    },
    {
     "name": "stdout",
     "output_type": "stream",
     "text": [
      "Request failed: HTTPConnectionPool(host='www.uniprot.org', port=80): Max retries exceeded with url: /uniprot/Q7M1E7.fasta (Caused by ConnectTimeoutError(<urllib3.connection.HTTPConnection object at 0x126383f00>, 'Connection to www.uniprot.org timed out. (connect timeout=None)'))\n",
      "Request failed: HTTPConnectionPool(host='www.uniprot.org', port=80): Max retries exceeded with url: /uniprot/P03428.fasta (Caused by ConnectTimeoutError(<urllib3.connection.HTTPConnection object at 0x1263cbf00>, 'Connection to www.uniprot.org timed out. (connect timeout=None)'))\n",
      "Request failed: HTTPConnectionPool(host='www.uniprot.org', port=80): Max retries exceeded with url: /uniprot/P89442.fasta (Caused by ConnectTimeoutError(<urllib3.connection.HTTPConnection object at 0x1219eff00>, 'Connection to www.uniprot.org timed out. (connect timeout=None)'))\n",
      "No records found in the FASTA file.\n",
      "No records found in the FASTA file.\n",
      "No records found in the FASTA file.\n",
      "No records found in the FASTA file.\n",
      "No records found in the FASTA file.\n",
      "No records found in the FASTA file.\n",
      "No records found in the FASTA file.\n",
      "No records found in the FASTA file.\n",
      "No records found in the FASTA file.\n",
      "No records found in the FASTA file.\n",
      "No records found in the FASTA file.\n",
      "No records found in the FASTA file.\n",
      "No records found in the FASTA file.\n",
      "No records found in the FASTA file.\n",
      "No records found in the FASTA file.\n",
      "No records found in the FASTA file.\n",
      "No records found in the FASTA file.\n",
      "No records found in the FASTA file.\n",
      "No records found in the FASTA file.\n",
      "No records found in the FASTA file.\n",
      "No records found in the FASTA file.\n",
      "No records found in the FASTA file.\n",
      "No records found in the FASTA file.\n",
      "No records found in the FASTA file.\n",
      "No records found in the FASTA file.\n",
      "No records found in the FASTA file.\n",
      "No records found in the FASTA file.\n",
      "No records found in the FASTA file.\n",
      "No records found in the FASTA file.\n",
      "No records found in the FASTA file.\n",
      "No records found in the FASTA file.\n",
      "No records found in the FASTA file.\n",
      "No records found in the FASTA file.\n",
      "No records found in the FASTA file.\n",
      "No records found in the FASTA file.\n",
      "No records found in the FASTA file.\n",
      "No records found in the FASTA file.\n",
      "No records found in the FASTA file.\n",
      "No records found in the FASTA file.\n",
      "No records found in the FASTA file.\n",
      "No records found in the FASTA file.\n",
      "No records found in the FASTA file.\n",
      "No records found in the FASTA file.\n",
      "No records found in the FASTA file.\n",
      "No records found in the FASTA file.\n",
      "No records found in the FASTA file.\n",
      "No records found in the FASTA file.\n",
      "Request failed: HTTPConnectionPool(host='www.uniprot.org', port=80): Max retries exceeded with url: /uniprot/P9WFS9.fasta (Caused by ConnectTimeoutError(<urllib3.connection.HTTPConnection object at 0x122277ce0>, 'Connection to www.uniprot.org timed out. (connect timeout=None)'))\n"
     ]
    }
   ],
   "source": [
    "import pandas as pd\n",
    "import requests\n",
    "from Bio import SeqIO\n",
    "from io import StringIO\n",
    "\n",
    "epitopes = pd.read_csv(r'/Users/tariq/Documents/capstone/data/epitope_table_export_1740287020.csv')\n",
    "\n",
    "def fetch_full_sequence(url):\n",
    "    if pd.notna(url):  # Check if the URL is not NaN\n",
    "        url = f'{url}.fasta'\n",
    "        try:\n",
    "            response = requests.get(url)\n",
    "            if response.status_code == 200:\n",
    "                fasta_io = StringIO(response.text)\n",
    "                records = list(SeqIO.parse(fasta_io, \"fasta\"))\n",
    "                if records:  # Check if there are any records\n",
    "                    return str(records[0].seq)\n",
    "                else:\n",
    "                    print(\"No records found in the FASTA file.\")\n",
    "        except requests.exceptions.RequestException as e:\n",
    "            print(f\"Request failed: {e}\")\n",
    "    return None\n",
    "\n",
    "epitopes['Full Sequence'] = epitopes['Epitope - Molecule Parent IRI'].apply(fetch_full_sequence)"
   ]
  },
  {
   "cell_type": "code",
   "execution_count": 6,
   "metadata": {},
   "outputs": [],
   "source": [
    "epitopes.to_csv(r'/Users/tariq/Documents/capstone/data/epitope_full_seq2.csv', index=False)"
   ]
  }
 ],
 "metadata": {
  "kernelspec": {
   "display_name": ".venv",
   "language": "python",
   "name": "python3"
  },
  "language_info": {
   "codemirror_mode": {
    "name": "ipython",
    "version": 3
   },
   "file_extension": ".py",
   "mimetype": "text/x-python",
   "name": "python",
   "nbconvert_exporter": "python",
   "pygments_lexer": "ipython3",
   "version": "3.13.1"
  }
 },
 "nbformat": 4,
 "nbformat_minor": 2
}
